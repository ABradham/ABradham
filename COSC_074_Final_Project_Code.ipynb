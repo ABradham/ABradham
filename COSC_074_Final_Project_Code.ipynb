{
  "cells": [
    {
      "cell_type": "markdown",
      "metadata": {
        "id": "view-in-github",
        "colab_type": "text"
      },
      "source": [
        "<a href=\"https://colab.research.google.com/github/ABradham/ABradham/blob/main/COSC_074_Final_Project_Code.ipynb\" target=\"_parent\"><img src=\"https://colab.research.google.com/assets/colab-badge.svg\" alt=\"Open In Colab\"/></a>"
      ]
    },
    {
      "cell_type": "markdown",
      "source": [
        "# COSC 074 Final Project"
      ],
      "metadata": {
        "id": "yE-lXCQ98wmz"
      },
      "id": "yE-lXCQ98wmz"
    },
    {
      "cell_type": "markdown",
      "source": [
        "## Document Imports"
      ],
      "metadata": {
        "id": "WCDcfkwruxqc"
      },
      "id": "WCDcfkwruxqc"
    },
    {
      "cell_type": "code",
      "source": [
        "# Document Imports\n",
        "import pandas as pd\n",
        "import numpy as np\n",
        "import matplotlib.pyplot as plt\n",
        "\n",
        "# Sklearn imports\n",
        "from sklearn.feature_extraction.text import TfidfVectorizer\n",
        "from sklearn.naive_bayes import MultinomialNB\n",
        "from sklearn.metrics import confusion_matrix, accuracy_score\n",
        "from sklearn.linear_model import SGDClassifier\n",
        "from sklearn.metrics import precision_recall_fscore_support\n",
        "from sklearn.metrics import roc_auc_score, roc_curve, plot_roc_curve, ConfusionMatrixDisplay\n",
        "from sklearn.metrics import RocCurveDisplay\n",
        "from sklearn.model_selection import KFold\n",
        "from sklearn.linear_model import LogisticRegression\n",
        "from sklearn.naive_bayes import MultinomialNB\n",
        "from sklearn.metrics import silhouette_score, rand_score\n",
        "from sklearn.cluster import KMeans\n"
      ],
      "metadata": {
        "id": "pLJrlayRuwpf"
      },
      "id": "pLJrlayRuwpf",
      "execution_count": 38,
      "outputs": []
    },
    {
      "cell_type": "markdown",
      "metadata": {
        "id": "79056ae8"
      },
      "source": [
        "## Binary Classifiers For Reviews >= 1 Stars"
      ],
      "id": "79056ae8"
    },
    {
      "cell_type": "markdown",
      "metadata": {
        "id": "7a632441"
      },
      "source": [
        "### Data Loading / Cleaning and Label Changes "
      ],
      "id": "7a632441"
    },
    {
      "cell_type": "code",
      "execution_count": 55,
      "metadata": {
        "id": "51ebb204"
      },
      "outputs": [],
      "source": [
        "# Load data from CSV into dataframe\n",
        "all_train  = pd.read_csv(\"./Training.csv\")\n",
        "all_test = pd.read_csv(\"./Test.csv\")\n",
        "all_train_review_text = all_train[\"reviewText\"]\n",
        "all_train_labels = all_train[\"overall\"]\n",
        "all_test_review_text = all_test[\"reviewText\"]\n",
        "\n",
        "# Convert labels fron 1-5 scale to 0-1 scale with cutoff @ 1\n",
        "def change_labels(x):\n",
        "    if x <= 1:\n",
        "        return 0\n",
        "    else:\n",
        "        return 1\n",
        "f = np.vectorize(change_labels)\n",
        "all_train_labels = f(all_train_labels)"
      ],
      "id": "51ebb204"
    },
    {
      "cell_type": "markdown",
      "metadata": {
        "id": "e7139a82"
      },
      "source": [
        "### Text Vectorization"
      ],
      "id": "e7139a82"
    },
    {
      "cell_type": "code",
      "execution_count": 56,
      "metadata": {
        "id": "b9ab57f6"
      },
      "outputs": [],
      "source": [
        "# Initalize vectorizer. \n",
        "vectorizer = TfidfVectorizer(lowercase=True)\n",
        "\n",
        "# Fit vectorizer and transform text into features \n",
        "all_text_features = vectorizer.fit_transform(all_train_review_text)\n",
        "test_data_features = vectorizer.transform(all_test_review_text)"
      ],
      "id": "b9ab57f6"
    },
    {
      "cell_type": "markdown",
      "metadata": {
        "id": "8334fce3"
      },
      "source": [
        "### Evaluation Metric Imports and Setup"
      ],
      "id": "8334fce3"
    },
    {
      "cell_type": "code",
      "source": [
        "# F1 Evaluation Function from example\n",
        "def evaluate(labels, predictions):\n",
        "    assert len(labels) == len(predictions), 'labels array and predictions array must be the same length'\n",
        "    precision, recall, f1, _ = precision_recall_fscore_support(labels, predictions, average='macro')\n",
        "    accuracy = accuracy_score(labels, predictions)\n",
        "    return accuracy, precision, recall, f1\n"
      ],
      "metadata": {
        "id": "Gna2ShvF8b7u"
      },
      "id": "Gna2ShvF8b7u",
      "execution_count": 57,
      "outputs": []
    },
    {
      "cell_type": "markdown",
      "source": [
        "### Train-Test Split and 5 Fold Cross Validation For Logistic Regression"
      ],
      "metadata": {
        "id": "HqBr0f2f8hK_"
      },
      "id": "HqBr0f2f8hK_"
    },
    {
      "cell_type": "code",
      "execution_count": 42,
      "metadata": {
        "colab": {
          "base_uri": "https://localhost:8080/",
          "height": 493
        },
        "id": "14a372e1",
        "outputId": "239bd83d-f5ca-4b38-9d69-9c72073680a7"
      },
      "outputs": [
        {
          "output_type": "stream",
          "name": "stdout",
          "text": [
            "(C: 1, penalty: l2, class_weight: balanced): 0.734914577198418\n",
            "(C: 1, penalty: l2, class_weight: None): 0.6731927665465262\n",
            "(C: 1.5, penalty: l2, class_weight: balanced): 0.7355875257267327\n",
            "(C: 1.5, penalty: l2, class_weight: None): 0.6882142733712865\n",
            "(C: 2, penalty: l2, class_weight: balanced): 0.736846934112194\n",
            "(C: 2, penalty: l2, class_weight: None): 0.6974642726632982\n",
            "---Best Model Stats---\n",
            "Best Model: {'C': 2, 'penalty': 'l2', 'class_weight': 'balanced'}\n",
            "f1: 0.736846934112194\n",
            "Accuracy 0.8068110938694651\n",
            "AUC 0.7720390965300326\n",
            "Confusion Matrix\n"
          ]
        },
        {
          "output_type": "display_data",
          "data": {
            "text/plain": [
              "<Figure size 432x288 with 2 Axes>"
            ],
            "image/png": "[encoded data removed]"
          },
          "metadata": {
            "needs_background": "light"
          }
        }
      ],
      "source": [
        "# Set range of hyperparameters to test\n",
        "hyper_parameters = {\"C\": [1, 1.5, 2], \"penalty\": [\"l1\", \"l2\"], \"class_weight\": ['balanced', None]}\n",
        "best_params = {\"C\": None, \"penalty\": None, \"Classifier\": None}\n",
        "best_f1 = np.NINF\n",
        "best_param_stats = {\"Accuracy\": None, \"AUC\": None, \"Confusion Matrix\": None}\n",
        "\n",
        "for C in hyper_parameters[\"C\"]:\n",
        "  for penalty in hyper_parameters['penalty']:\n",
        "    for class_weight in hyper_parameters['class_weight']:\n",
        "\n",
        "      # Dont regularize if using L1 penalty because it takes too long to converge\n",
        "      if(penalty == 'l1'):\n",
        "        continue\n",
        "      \n",
        "      current_results = {'Accuracy' : [],\n",
        "                'Precision' : [],\n",
        "                'Recall' : [],\n",
        "                'F1' : [],\n",
        "                'Confusion Matrix': [],\n",
        "                'AUC': [],\n",
        "                'ROC':[],\n",
        "                'Classifier': []}\n",
        "      # 5 Fold Cross Validation for each combination of hyperparameters\n",
        "      kf = KFold(n_splits=5, shuffle=True, random_state=5)\n",
        "      for train_index, test_index in kf.split(all_text_features):\n",
        "          X_train, X_test = all_text_features[train_index], all_text_features[test_index]\n",
        "          y_train, y_test = all_train_labels[train_index], all_train_labels[test_index]\n",
        "          \n",
        "          # Train model given this split\n",
        "          log_reg_model = LogisticRegression(max_iter=300, solver=\"saga\", penalty=penalty, class_weight=class_weight, C=C)\n",
        "          log_reg_model.fit(X_train, y_train)\n",
        "          \n",
        "          # Calculate and report accuracy of this subset trained model\n",
        "          labels = y_test.tolist()\n",
        "          predictions = [log_reg_model.predict(current_vector) for current_vector in X_test]\n",
        "\n",
        "          a, p, r, f = evaluate(labels, predictions)\n",
        "          current_confusion_matrix = confusion_matrix(labels, predictions)\n",
        "          current_AUC_score = roc_auc_score(labels, predictions)\n",
        "          fpr, tpr, thresholds = roc_curve(labels, predictions)\n",
        "\n",
        "          current_results['Accuracy'].append(a)\n",
        "          current_results['Precision'].append(p)\n",
        "          current_results['Recall'].append(r)\n",
        "          current_results['F1'].append(f)\n",
        "          current_results['Confusion Matrix'].append(current_confusion_matrix)\n",
        "          current_results['AUC'].append(current_AUC_score)\n",
        "          current_results['Classifier'].append(log_reg_model)\n",
        "\n",
        "      # Calculate F1 Average for this set of hyperparameters and print results\n",
        "      current_f1_avg = sum(current_results['F1'])/len(current_results['F1'])\n",
        "      print(f\"(C: {C}, penalty: {penalty}, class_weight: {class_weight}):\", current_f1_avg)\n",
        "\n",
        "      # Update best params if best f1 achieved\n",
        "      if current_f1_avg > best_f1:\n",
        "        best_f1 = current_f1_avg\n",
        "        best_params = {\"C\": C, \"penalty\": penalty, \"class_weight\": class_weight}\n",
        "\n",
        "        # Update best parameter metrics\n",
        "        best_param_stats['Accuracy'] = np.mean(current_results['Accuracy'])\n",
        "        best_param_stats['AUC'] = np.mean(current_results['AUC'])\n",
        "        best_param_stats['Confusion Matrix'] = current_results['Confusion Matrix'][4]\n",
        "\n",
        "# Calculate and print AUC, ROC, F1, Confusion Matrix, and Accuracy of the best model\n",
        "print(\"---Best Model Stats---\")\n",
        "print(\"Best Model:\", best_params)\n",
        "print(f\"f1: {best_f1}\")\n",
        "for key in best_param_stats:\n",
        "  if key == 'ROC' or key == 'Confusion Matrix':\n",
        "    continue\n",
        "  print(key, best_param_stats[key])\n",
        "print(\"Confusion Matrix\")\n",
        "disp = ConfusionMatrixDisplay(confusion_matrix=best_param_stats['Confusion Matrix'])\n",
        "disp.plot()\n",
        "plt.show()"
      ],
      "id": "14a372e1"
    },
    {
      "cell_type": "markdown",
      "metadata": {
        "id": "a7ca80aa"
      },
      "source": [
        "### Train-Test Split and 5 Fold Cross Validation For Multinomial Naïeve Bayes"
      ],
      "id": "a7ca80aa"
    },
    {
      "cell_type": "code",
      "execution_count": 58,
      "metadata": {
        "colab": {
          "base_uri": "https://localhost:8080/",
          "height": 531
        },
        "id": "cba46480",
        "outputId": "4c0bb56a-1f76-48fb-ccf8-2e645b114874"
      },
      "outputs": [
        {
          "output_type": "stream",
          "name": "stdout",
          "text": [
            "(alpha: 1) 0.44717749597572237\n",
            "(alpha: 2) 0.4446850981933096\n"
          ]
        },
        {
          "output_type": "stream",
          "name": "stderr",
          "text": [
            "/usr/local/lib/python3.7/dist-packages/sklearn/metrics/_classification.py:1318: UndefinedMetricWarning: Precision and F-score are ill-defined and being set to 0.0 in labels with no predicted samples. Use `zero_division` parameter to control this behavior.\n",
            "  _warn_prf(average, modifier, msg_start, len(result))\n"
          ]
        },
        {
          "output_type": "stream",
          "name": "stdout",
          "text": [
            "(alpha: 3) 0.44381505961211987\n",
            "---Best Model Stats---\n",
            "Best Model: {'alpha': 1}\n",
            "f1: 0.44717749597572237\n",
            "Accuracy 0.7960532985784944\n",
            "AUC 0.5015876201344983\n",
            "Confusion Matrix\n"
          ]
        },
        {
          "output_type": "stream",
          "name": "stderr",
          "text": [
            "/usr/local/lib/python3.7/dist-packages/sklearn/metrics/_classification.py:1318: UndefinedMetricWarning: Precision and F-score are ill-defined and being set to 0.0 in labels with no predicted samples. Use `zero_division` parameter to control this behavior.\n",
            "  _warn_prf(average, modifier, msg_start, len(result))\n"
          ]
        },
        {
          "output_type": "display_data",
          "data": {
            "text/plain": [
              "<Figure size 432x288 with 2 Axes>"
            ],
            "image/png": "[encoded data removed]"
          },
          "metadata": {
            "needs_background": "light"
          }
        }
      ],
      "source": [
        "# Set range of hyperparameters to test\n",
        "hyper_parameters = {\"alpha\": [1, 2, 3]}\n",
        "best_params = {\"alpha\": None}\n",
        "best_f1 = np.NINF\n",
        "best_param_stats = {\"Accuracy\": None, \"AUC\": None, \"Confusion Matrix\": None}\n",
        "\n",
        "for alpha in hyper_parameters[\"alpha\"]:\n",
        "  current_results = {'Accuracy' : [],\n",
        "            'Precision' : [],\n",
        "            'Recall' : [],\n",
        "            'F1' : [],\n",
        "            'Confusion Matrix': [],\n",
        "            'AUC': [],\n",
        "            'ROC':[]}\n",
        "  # 5 Fold Cross Validation for each combination of hyperparameters\n",
        "  kf = KFold(n_splits=5, shuffle=True, random_state=5)\n",
        "  for train_index, test_index in kf.split(all_text_features):\n",
        "      X_train, X_test = all_text_features[train_index], all_text_features[test_index]\n",
        "      y_train, y_test = all_train_labels[train_index], all_train_labels[test_index]\n",
        "      \n",
        "      # Train model given this split\n",
        "      clf = MultinomialNB(alpha=alpha)\n",
        "      clf.fit(X_train, y_train)\n",
        "      \n",
        "      # Calculate and report accuracy of this subset trained model\n",
        "      labels = y_test.tolist()\n",
        "      predictions = [clf.predict(current_vector) for current_vector in X_test]\n",
        "\n",
        "      a, p, r, f = evaluate(labels, predictions)\n",
        "      current_confusion_matrix = confusion_matrix(labels, predictions)\n",
        "      current_AUC_score = roc_auc_score(labels, predictions)\n",
        "      fpr, tpr, thresholds = roc_curve(labels, predictions)\n",
        "\n",
        "      current_results['Accuracy'].append(a)\n",
        "      current_results['Precision'].append(p)\n",
        "      current_results['Recall'].append(r)\n",
        "      current_results['F1'].append(f)\n",
        "      current_results['Confusion Matrix'].append(current_confusion_matrix)\n",
        "      current_results['AUC'].append(current_AUC_score)\n",
        "      current_results['ROC'].append((fpr, tpr, thresholds))\n",
        "\n",
        "  # Calculate F1 Average for this set of hyperparameters and print results\n",
        "  current_f1_avg = sum(current_results['F1'])/len(current_results['F1'])\n",
        "  print(f\"(alpha: {alpha})\", current_f1_avg)\n",
        "\n",
        "  # Update best params if best f1 achieved\n",
        "  if current_f1_avg > best_f1:\n",
        "    best_f1 = current_f1_avg\n",
        "    best_params = {\"alpha\": alpha}\n",
        "\n",
        "    # Update best parameter metrics\n",
        "    best_param_stats['Accuracy'] = np.mean(current_results['Accuracy'])\n",
        "    best_param_stats['AUC'] = np.mean(current_results['AUC'])\n",
        "    best_param_stats['Confusion Matrix'] = current_results['Confusion Matrix'][4]\n",
        "    best_param_stats['ROC'] = current_results['ROC'][4]\n",
        "\n",
        "# Calculate and print AUC-ROC, F1, Confusion Matrix, and Accuracy of the best model\n",
        "print(\"---Best Model Stats---\")\n",
        "print(\"Best Model:\", best_params)\n",
        "print(f'f1: {best_f1}')\n",
        "for key in best_param_stats:\n",
        "  if key == 'ROC' or key == 'Confusion Matrix':\n",
        "    continue\n",
        "  print(key, best_param_stats[key])\n",
        "print(\"Confusion Matrix\")\n",
        "disp = ConfusionMatrixDisplay(confusion_matrix=best_param_stats['Confusion Matrix'])\n",
        "disp.plot()\n",
        "plt.show()"
      ],
      "id": "cba46480"
    },
    {
      "cell_type": "markdown",
      "metadata": {
        "id": "3f828947"
      },
      "source": [
        "### Train-Test Split and 5 Fold Cross Validation Support Vector Machine Trained Via Stochastic Gradient Descent"
      ],
      "id": "3f828947"
    },
    {
      "cell_type": "code",
      "execution_count": 44,
      "metadata": {
        "id": "08441cb1",
        "colab": {
          "base_uri": "https://localhost:8080/",
          "height": 458
        },
        "outputId": "5d7f18a6-eab9-4ed8-ec35-a6c1f9fa9ab4"
      },
      "outputs": [
        {
          "output_type": "stream",
          "name": "stdout",
          "text": [
            "(loss function: hinge, penalty: l1) 0.6057227115996712\n",
            "(loss function: hinge, penalty: l2) 0.6420732196789605\n",
            "(loss function: perceptron, penalty: l1) 0.6080118853127396\n",
            "(loss function: perceptron, penalty: l2) 0.6741827825499163\n",
            "---Best Model Stats---\n",
            "Best Model: {'loss': 'perceptron', 'penalty': 'l2'}\n",
            "f1: 0.6741827825499163\n",
            "Accuracy 0.7935862543720132\n",
            "AUC 0.6706971211986873\n",
            "Confusion Matrix\n"
          ]
        },
        {
          "output_type": "display_data",
          "data": {
            "text/plain": [
              "<Figure size 432x288 with 2 Axes>"
            ],
            "image/png": "[encoded data removed]"
          },
          "metadata": {
            "needs_background": "light"
          }
        }
      ],
      "source": [
        "# Set range of hyperparameters to test\n",
        "hyper_parameters = {\"loss\":[\"hinge\", \"perceptron\"], \"penalty\":[\"l1\", \"l2\"]}\n",
        "best_params = {\"loss\": None}\n",
        "best_f1 = np.NINF\n",
        "best_param_stats = {\"Accuracy\": None, \"AUC\": None, \"Confusion Matrix\": None}\n",
        "\n",
        "for loss in hyper_parameters[\"loss\"]:\n",
        "  for penalty in hyper_parameters['penalty']:\n",
        "      current_results = {'Accuracy' : [],\n",
        "                'Precision' : [],\n",
        "                'Recall' : [],\n",
        "                'F1' : [],\n",
        "                'Confusion Matrix': [],\n",
        "                'AUC': [],\n",
        "                'ROC':[]}\n",
        "      # 5 Fold Cross Validation for each combination of hyperparameters\n",
        "      kf = KFold(n_splits=5, shuffle=True, random_state=42)\n",
        "      for train_index, test_index in kf.split(all_text_features):\n",
        "          X_train, X_test = all_text_features[train_index], all_text_features[test_index]\n",
        "          y_train, y_test = all_train_labels[train_index], all_train_labels[test_index]\n",
        "          \n",
        "          # Train model given this split\n",
        "          clf = SGDClassifier(loss=loss, penalty=penalty)\n",
        "          clf.fit(X_train, y_train)\n",
        "          \n",
        "          # Calculate and report accuracy of this subset trained model\n",
        "          labels = y_test.tolist()\n",
        "          predictions = [clf.predict(current_vector) for current_vector in X_test]\n",
        "\n",
        "          a, p, r, f = evaluate(labels, predictions)\n",
        "          current_confusion_matrix = confusion_matrix(labels, predictions)\n",
        "          current_AUC_score = roc_auc_score(labels, predictions)\n",
        "          fpr, tpr, thresholds = roc_curve(labels, predictions)\n",
        "\n",
        "          current_results['Accuracy'].append(a)\n",
        "          current_results['Precision'].append(p)\n",
        "          current_results['Recall'].append(r)\n",
        "          current_results['F1'].append(f)\n",
        "          current_results['Confusion Matrix'].append(current_confusion_matrix)\n",
        "          current_results['AUC'].append(current_AUC_score)\n",
        "          current_results['ROC'].append((fpr, tpr, thresholds))\n",
        "\n",
        "      # Calculate F1 Average for this set of hyperparameters and print results\n",
        "      current_f1_avg = sum(current_results['F1'])/len(current_results['F1'])\n",
        "      print(f\"(loss function: {loss}, penalty: {penalty})\", current_f1_avg)\n",
        "\n",
        "      # Update best params if best f1 achieved\n",
        "      if current_f1_avg > best_f1:\n",
        "        best_f1 = current_f1_avg\n",
        "        best_params = {\"loss\": loss, \"penalty\": penalty}\n",
        "\n",
        "        # Update best parameter metrics\n",
        "        best_param_stats['Accuracy'] = np.mean(current_results['Accuracy'])\n",
        "        best_param_stats['AUC'] = np.mean(current_results['AUC'])\n",
        "        best_param_stats['Confusion Matrix'] = current_results['Confusion Matrix'][4]\n",
        "        best_param_stats['ROC'] = current_results['ROC'][4]\n",
        "\n",
        "# Calculate and print AUC, ROC, F1, Confusion Matrix, and Accuracy of the best model\n",
        "print(\"---Best Model Stats---\")\n",
        "print(\"Best Model:\", best_params)\n",
        "print(f'f1: {best_f1}')\n",
        "for key in best_param_stats:\n",
        "  if key == 'ROC' or key == \"Confusion Matrix\":\n",
        "    continue\n",
        "  print(key, best_param_stats[key])\n",
        "print(\"Confusion Matrix\")\n",
        "disp = ConfusionMatrixDisplay(confusion_matrix=best_param_stats['Confusion Matrix'])\n",
        "disp.plot()\n",
        "plt.show()"
      ],
      "id": "08441cb1"
    },
    {
      "cell_type": "markdown",
      "metadata": {
        "id": "pk8yobLy7S6Z"
      },
      "source": [
        "### Training Best Model Found So Far (Logistic Regression)\n",
        "For the binary classifier with star ratings >=1, the best model was logistic regression with C=2, penalty=l2, and class_weight=balanced. We use such a model to generate the predictions we send to kaggle."
      ],
      "id": "pk8yobLy7S6Z"
    },
    {
      "cell_type": "code",
      "execution_count": 45,
      "metadata": {
        "id": "eYxDV2nG7XcF"
      },
      "outputs": [],
      "source": [
        "# Train Classifier and Make Predictions\n",
        "classifier = LogisticRegression(max_iter=300, solver=\"saga\", penalty=\"l2\", class_weight='balanced', C=2)\n",
        "classifier.fit(all_text_features, all_train_labels)\n",
        "predictions = classifier.predict(test_data_features)\n",
        "\n",
        "# Save predicitons into a dataframe\n",
        "df2 = pd.DataFrame(predictions)\n",
        "df2.to_csv('predictions.csv', header=[\"predicted\"])"
      ],
      "id": "eYxDV2nG7XcF"
    },
    {
      "cell_type": "markdown",
      "metadata": {
        "id": "y9DETSzSvXuN"
      },
      "source": [
        "## Binary Classifiers For Reviews >= 2 Stars"
      ],
      "id": "y9DETSzSvXuN"
    },
    {
      "cell_type": "markdown",
      "metadata": {
        "id": "VxGBqS-QvXuN"
      },
      "source": [
        "### Data Loading / Cleaning and Label Changes "
      ],
      "id": "VxGBqS-QvXuN"
    },
    {
      "cell_type": "code",
      "execution_count": 46,
      "metadata": {
        "id": "Cq8y0hGRvXuO"
      },
      "outputs": [],
      "source": [
        "# Load data from CSV into dataframe\n",
        "all_train  = pd.read_csv(\"./Training.csv\")\n",
        "all_test = pd.read_csv(\"./Test.csv\")\n",
        "all_train_review_text = all_train[\"reviewText\"]\n",
        "all_train_labels = all_train[\"overall\"]\n",
        "all_test_review_text = all_test[\"reviewText\"]\n",
        "\n",
        "# Convert labels fron 1-5 scale to 0-1 scale with cutoff @ 2\n",
        "def change_labels(x):\n",
        "    if x <= 2:\n",
        "        return 0\n",
        "    else:\n",
        "        return 1\n",
        "f = np.vectorize(change_labels)\n",
        "all_train_labels = f(all_train_labels)"
      ],
      "id": "Cq8y0hGRvXuO"
    },
    {
      "cell_type": "markdown",
      "metadata": {
        "id": "CCCuJHxTvXuO"
      },
      "source": [
        "### Text Vectorization"
      ],
      "id": "CCCuJHxTvXuO"
    },
    {
      "cell_type": "code",
      "execution_count": 47,
      "metadata": {
        "id": "su3SH-vgvXuO"
      },
      "outputs": [],
      "source": [
        "# Initalize vectorizer. \n",
        "vectorizer = TfidfVectorizer(lowercase=True)\n",
        "\n",
        "# Fit vectorizer and transform text into features \n",
        "all_text_features = vectorizer.fit_transform(all_train_review_text)\n",
        "test_data_features = vectorizer.transform(all_test_review_text)"
      ],
      "id": "su3SH-vgvXuO"
    },
    {
      "cell_type": "markdown",
      "metadata": {
        "id": "U-1TVijjvXuO"
      },
      "source": [
        "### Evaluation Metric Imports and Setup"
      ],
      "id": "U-1TVijjvXuO"
    },
    {
      "cell_type": "code",
      "source": [
        "# F1 Evaluation Function from example\n",
        "def evaluate(labels, predictions):\n",
        "    assert len(labels) == len(predictions), 'labels array and predictions array must be the same length'\n",
        "    precision, recall, f1, _ = precision_recall_fscore_support(labels, predictions, average='macro')\n",
        "    accuracy = accuracy_score(labels, predictions)\n",
        "    return accuracy, precision, recall, f1\n"
      ],
      "metadata": {
        "id": "MxJbqg_yvXuO"
      },
      "execution_count": 48,
      "outputs": [],
      "id": "MxJbqg_yvXuO"
    },
    {
      "cell_type": "markdown",
      "source": [
        "### Train-Test Split and 5 Fold Cross Validation For Logistic Regression"
      ],
      "metadata": {
        "id": "1e_bj0q7vXuO"
      },
      "id": "1e_bj0q7vXuO"
    },
    {
      "cell_type": "code",
      "execution_count": 49,
      "metadata": {
        "colab": {
          "base_uri": "https://localhost:8080/",
          "height": 493
        },
        "outputId": "327675d9-93d0-4ac2-a242-a1586363fe19",
        "id": "WTTiXLGVvXuP"
      },
      "outputs": [
        {
          "output_type": "stream",
          "name": "stdout",
          "text": [
            "(C: 1, penalty: l2, class_weight: balanced): 0.7881298832386114\n",
            "(C: 1, penalty: l2, class_weight: None): 0.7807543621953383\n",
            "(C: 1.5, penalty: l2, class_weight: balanced): 0.7883177657315251\n",
            "(C: 1.5, penalty: l2, class_weight: None): 0.7826584292991479\n",
            "(C: 2, penalty: l2, class_weight: balanced): 0.7877784598579897\n",
            "(C: 2, penalty: l2, class_weight: None): 0.782043201150276\n",
            "---Best Model Stats---\n",
            "Best Model: {'C': 1.5, 'penalty': 'l2', 'class_weight': 'balanced'}\n",
            "f1: 0.7883177657315251\n",
            "Accuracy 0.7934837846455991\n",
            "AUC 0.791570087342113\n",
            "Confusion Matrix\n"
          ]
        },
        {
          "output_type": "display_data",
          "data": {
            "text/plain": [
              "<Figure size 432x288 with 2 Axes>"
            ],
            "image/png": "[encoded data removed]"
          },
          "metadata": {
            "needs_background": "light"
          }
        }
      ],
      "source": [
        "# Set range of hyperparameters to test\n",
        "hyper_parameters = {\"C\": [1, 1.5, 2], \"penalty\": [\"l1\", \"l2\"], \"class_weight\": ['balanced', None]}\n",
        "best_params = {\"C\": None, \"penalty\": None, \"Classifier\": None}\n",
        "best_f1 = np.NINF\n",
        "best_param_stats = {\"Accuracy\": None, \"AUC\": None, \"Confusion Matrix\": None}\n",
        "\n",
        "for C in hyper_parameters[\"C\"]:\n",
        "  for penalty in hyper_parameters['penalty']:\n",
        "    for class_weight in hyper_parameters['class_weight']:\n",
        "\n",
        "      # Dont regularize if using L1 penalty because it takes too long to converge\n",
        "      if(penalty == 'l1'):\n",
        "        continue\n",
        "      \n",
        "      current_results = {'Accuracy' : [],\n",
        "                'Precision' : [],\n",
        "                'Recall' : [],\n",
        "                'F1' : [],\n",
        "                'Confusion Matrix': [],\n",
        "                'AUC': [],\n",
        "                'ROC':[],\n",
        "                'Classifier': []}\n",
        "      # 5 Fold Cross Validation for each combination of hyperparameters\n",
        "      kf = KFold(n_splits=5, shuffle=True, random_state=5)\n",
        "      for train_index, test_index in kf.split(all_text_features):\n",
        "          X_train, X_test = all_text_features[train_index], all_text_features[test_index]\n",
        "          y_train, y_test = all_train_labels[train_index], all_train_labels[test_index]\n",
        "          \n",
        "          # Train model given this split\n",
        "          log_reg_model = LogisticRegression(max_iter=300, solver=\"saga\", penalty=penalty, class_weight=class_weight, C=C)\n",
        "          log_reg_model.fit(X_train, y_train)\n",
        "          \n",
        "          # Calculate and report accuracy of this subset trained model\n",
        "          labels = y_test.tolist()\n",
        "          predictions = [log_reg_model.predict(current_vector) for current_vector in X_test]\n",
        "\n",
        "          a, p, r, f = evaluate(labels, predictions)\n",
        "          current_confusion_matrix = confusion_matrix(labels, predictions)\n",
        "          current_AUC_score = roc_auc_score(labels, predictions)\n",
        "          fpr, tpr, thresholds = roc_curve(labels, predictions)\n",
        "\n",
        "          current_results['Accuracy'].append(a)\n",
        "          current_results['Precision'].append(p)\n",
        "          current_results['Recall'].append(r)\n",
        "          current_results['F1'].append(f)\n",
        "          current_results['Confusion Matrix'].append(current_confusion_matrix)\n",
        "          current_results['AUC'].append(current_AUC_score)\n",
        "          current_results['Classifier'].append(log_reg_model)\n",
        "\n",
        "      # Calculate F1 Average for this set of hyperparameters and print results\n",
        "      current_f1_avg = sum(current_results['F1'])/len(current_results['F1'])\n",
        "      print(f\"(C: {C}, penalty: {penalty}, class_weight: {class_weight}):\", current_f1_avg)\n",
        "\n",
        "      # Update best params if best f1 achieved\n",
        "      if current_f1_avg > best_f1:\n",
        "        best_f1 = current_f1_avg\n",
        "        best_params = {\"C\": C, \"penalty\": penalty, \"class_weight\": class_weight}\n",
        "\n",
        "        # Update best parameter metrics\n",
        "        best_param_stats['Accuracy'] = np.mean(current_results['Accuracy'])\n",
        "        best_param_stats['AUC'] = np.mean(current_results['AUC'])\n",
        "        best_param_stats['Confusion Matrix'] = current_results['Confusion Matrix'][4]\n",
        "\n",
        "# Calculate and print AUC, ROC, F1, Confusion Matrix, and Accuracy of the best model\n",
        "print(\"---Best Model Stats---\")\n",
        "print(\"Best Model:\", best_params)\n",
        "print(f\"f1: {best_f1}\")\n",
        "for key in best_param_stats:\n",
        "  if key == 'ROC' or key == 'Confusion Matrix':\n",
        "    continue\n",
        "  print(key, best_param_stats[key])\n",
        "print(\"Confusion Matrix\")\n",
        "disp = ConfusionMatrixDisplay(confusion_matrix=best_param_stats['Confusion Matrix'])\n",
        "disp.plot()\n",
        "plt.show()"
      ],
      "id": "WTTiXLGVvXuP"
    },
    {
      "cell_type": "markdown",
      "metadata": {
        "id": "g6B4Iu-TvXuP"
      },
      "source": [
        "### Train-Test Split and 5 Fold Cross Validation For Multinomial Naïeve Bayes"
      ],
      "id": "g6B4Iu-TvXuP"
    },
    {
      "cell_type": "code",
      "execution_count": 51,
      "metadata": {
        "colab": {
          "base_uri": "https://localhost:8080/",
          "height": 440
        },
        "outputId": "db04171d-c690-453b-c92c-394c7a964167",
        "id": "TkPDaz3avXuP"
      },
      "outputs": [
        {
          "output_type": "stream",
          "name": "stdout",
          "text": [
            "(alpha: 1) 0.6072298557443851\n",
            "(alpha: 2) 0.526932582445241\n",
            "(alpha: 3) 0.4875712919547497\n",
            "---Best Model Stats---\n",
            "Best Model: {'alpha': 1}\n",
            "f1: 0.6072298557443851\n",
            "Accuracy 0.6922472986147659\n",
            "AUC 0.6280184145492959\n",
            "Confusion Matrix\n"
          ]
        },
        {
          "output_type": "display_data",
          "data": {
            "text/plain": [
              "<Figure size 432x288 with 2 Axes>"
            ],
            "image/png": "[encoded data removed]"
          },
          "metadata": {
            "needs_background": "light"
          }
        }
      ],
      "source": [
        "# Set range of hyperparameters to test\n",
        "hyper_parameters = {\"alpha\": [1, 2, 3]}\n",
        "best_params = {\"alpha\": None}\n",
        "best_f1 = np.NINF\n",
        "best_param_stats = {\"Accuracy\": None, \"AUC\": None, \"Confusion Matrix\": None}\n",
        "\n",
        "for alpha in hyper_parameters[\"alpha\"]:\n",
        "  current_results = {'Accuracy' : [],\n",
        "            'Precision' : [],\n",
        "            'Recall' : [],\n",
        "            'F1' : [],\n",
        "            'Confusion Matrix': [],\n",
        "            'AUC': [],\n",
        "            'ROC':[]}\n",
        "  # 5 Fold Cross Validation for each combination of hyperparameters\n",
        "  kf = KFold(n_splits=5, shuffle=True, random_state=5)\n",
        "  for train_index, test_index in kf.split(all_text_features):\n",
        "      X_train, X_test = all_text_features[train_index], all_text_features[test_index]\n",
        "      y_train, y_test = all_train_labels[train_index], all_train_labels[test_index]\n",
        "      \n",
        "      # Train model given this split\n",
        "      clf = MultinomialNB(alpha=alpha)\n",
        "      clf.fit(X_train, y_train)\n",
        "      \n",
        "      # Calculate and report accuracy of this subset trained model\n",
        "      labels = y_test.tolist()\n",
        "      predictions = [clf.predict(current_vector) for current_vector in X_test]\n",
        "\n",
        "      a, p, r, f = evaluate(labels, predictions)\n",
        "      current_confusion_matrix = confusion_matrix(labels, predictions)\n",
        "      current_AUC_score = roc_auc_score(labels, predictions)\n",
        "      fpr, tpr, thresholds = roc_curve(labels, predictions)\n",
        "\n",
        "      current_results['Accuracy'].append(a)\n",
        "      current_results['Precision'].append(p)\n",
        "      current_results['Recall'].append(r)\n",
        "      current_results['F1'].append(f)\n",
        "      current_results['Confusion Matrix'].append(current_confusion_matrix)\n",
        "      current_results['AUC'].append(current_AUC_score)\n",
        "      current_results['ROC'].append((fpr, tpr, thresholds))\n",
        "\n",
        "  # Calculate F1 Average for this set of hyperparameters and print results\n",
        "  current_f1_avg = sum(current_results['F1'])/len(current_results['F1'])\n",
        "  print(f\"(alpha: {alpha})\", current_f1_avg)\n",
        "\n",
        "  # Update best params if best f1 achieved\n",
        "  if current_f1_avg > best_f1:\n",
        "    best_f1 = current_f1_avg\n",
        "    best_params = {\"alpha\": alpha}\n",
        "\n",
        "    # Update best parameter metrics\n",
        "    best_param_stats['Accuracy'] = np.mean(current_results['Accuracy'])\n",
        "    best_param_stats['AUC'] = np.mean(current_results['AUC'])\n",
        "    best_param_stats['Confusion Matrix'] = current_results['Confusion Matrix'][4]\n",
        "    best_param_stats['ROC'] = current_results['ROC'][4]\n",
        "\n",
        "# Calculate and print AUC-ROC, F1, Confusion Matrix, and Accuracy of the best model\n",
        "print(\"---Best Model Stats---\")\n",
        "print(\"Best Model:\", best_params)\n",
        "print(f'f1: {best_f1}')\n",
        "for key in best_param_stats:\n",
        "  if key == 'ROC' or key == 'Confusion Matrix':\n",
        "    continue\n",
        "  print(key, best_param_stats[key])\n",
        "print(\"Confusion Matrix\")\n",
        "disp = ConfusionMatrixDisplay(confusion_matrix=best_param_stats['Confusion Matrix'])\n",
        "disp.plot()\n",
        "plt.show()"
      ],
      "id": "TkPDaz3avXuP"
    },
    {
      "cell_type": "markdown",
      "metadata": {
        "id": "JdA1VKyIvXuQ"
      },
      "source": [
        "### Train-Test Split and 5 Fold Cross Validation Support Vector Machine Trained Via Stochastic Gradient Descent"
      ],
      "id": "JdA1VKyIvXuQ"
    },
    {
      "cell_type": "code",
      "execution_count": 52,
      "metadata": {
        "colab": {
          "base_uri": "https://localhost:8080/",
          "height": 458
        },
        "outputId": "dcae5f32-a521-48c4-f208-d38465682f2d",
        "id": "Q5e0os7QvXuQ"
      },
      "outputs": [
        {
          "output_type": "stream",
          "name": "stdout",
          "text": [
            "(loss function: hinge, penalty: l1) 0.7722444097777388\n",
            "(loss function: hinge, penalty: l2) 0.7826840835184641\n",
            "(loss function: perceptron, penalty: l1) 0.675081513087067\n",
            "(loss function: perceptron, penalty: l2) 0.7245350039006307\n",
            "---Best Model Stats---\n",
            "Best Model: {'loss': 'hinge', 'penalty': 'l2'}\n",
            "f1: 0.7826840835184641\n",
            "Accuracy 0.7938608549270132\n",
            "AUC 0.7785413741205075\n",
            "Confusion Matrix\n"
          ]
        },
        {
          "output_type": "display_data",
          "data": {
            "text/plain": [
              "<Figure size 432x288 with 2 Axes>"
            ],
            "image/png": "[encoded data removed]"
          },
          "metadata": {
            "needs_background": "light"
          }
        }
      ],
      "source": [
        "# Set range of hyperparameters to test\n",
        "hyper_parameters = {\"loss\":[\"hinge\", \"perceptron\"], \"penalty\":[\"l1\", \"l2\"]}\n",
        "best_params = {\"loss\": None}\n",
        "best_f1 = np.NINF\n",
        "best_param_stats = {\"Accuracy\": None, \"AUC\": None, \"Confusion Matrix\": None}\n",
        "\n",
        "for loss in hyper_parameters[\"loss\"]:\n",
        "  for penalty in hyper_parameters['penalty']:\n",
        "      current_results = {'Accuracy' : [],\n",
        "                'Precision' : [],\n",
        "                'Recall' : [],\n",
        "                'F1' : [],\n",
        "                'Confusion Matrix': [],\n",
        "                'AUC': [],\n",
        "                'ROC':[]}\n",
        "      # 5 Fold Cross Validation for each combination of hyperparameters\n",
        "      kf = KFold(n_splits=5, shuffle=True, random_state=42)\n",
        "      for train_index, test_index in kf.split(all_text_features):\n",
        "          X_train, X_test = all_text_features[train_index], all_text_features[test_index]\n",
        "          y_train, y_test = all_train_labels[train_index], all_train_labels[test_index]\n",
        "          \n",
        "          # Train model given this split\n",
        "          clf = SGDClassifier(loss=loss, penalty=penalty)\n",
        "          clf.fit(X_train, y_train)\n",
        "          \n",
        "          # Calculate and report accuracy of this subset trained model\n",
        "          labels = y_test.tolist()\n",
        "          predictions = [clf.predict(current_vector) for current_vector in X_test]\n",
        "\n",
        "          a, p, r, f = evaluate(labels, predictions)\n",
        "          current_confusion_matrix = confusion_matrix(labels, predictions)\n",
        "          current_AUC_score = roc_auc_score(labels, predictions)\n",
        "          fpr, tpr, thresholds = roc_curve(labels, predictions)\n",
        "\n",
        "          current_results['Accuracy'].append(a)\n",
        "          current_results['Precision'].append(p)\n",
        "          current_results['Recall'].append(r)\n",
        "          current_results['F1'].append(f)\n",
        "          current_results['Confusion Matrix'].append(current_confusion_matrix)\n",
        "          current_results['AUC'].append(current_AUC_score)\n",
        "          current_results['ROC'].append((fpr, tpr, thresholds))\n",
        "\n",
        "      # Calculate F1 Average for this set of hyperparameters and print results\n",
        "      current_f1_avg = sum(current_results['F1'])/len(current_results['F1'])\n",
        "      print(f\"(loss function: {loss}, penalty: {penalty})\", current_f1_avg)\n",
        "\n",
        "      # Update best params if best f1 achieved\n",
        "      if current_f1_avg > best_f1:\n",
        "        best_f1 = current_f1_avg\n",
        "        best_params = {\"loss\": loss, \"penalty\": penalty}\n",
        "\n",
        "        # Update best parameter metrics\n",
        "        best_param_stats['Accuracy'] = np.mean(current_results['Accuracy'])\n",
        "        best_param_stats['AUC'] = np.mean(current_results['AUC'])\n",
        "        best_param_stats['Confusion Matrix'] = current_results['Confusion Matrix'][4]\n",
        "        best_param_stats['ROC'] = current_results['ROC'][4]\n",
        "\n",
        "# Calculate and print AUC, ROC, F1, Confusion Matrix, and Accuracy of the best model\n",
        "print(\"---Best Model Stats---\")\n",
        "print(\"Best Model:\", best_params)\n",
        "print(f'f1: {best_f1}')\n",
        "for key in best_param_stats:\n",
        "  if key == 'ROC' or key == \"Confusion Matrix\":\n",
        "    continue\n",
        "  print(key, best_param_stats[key])\n",
        "print(\"Confusion Matrix\")\n",
        "disp = ConfusionMatrixDisplay(confusion_matrix=best_param_stats['Confusion Matrix'])\n",
        "disp.plot()\n",
        "plt.show()"
      ],
      "id": "Q5e0os7QvXuQ"
    },
    {
      "cell_type": "markdown",
      "metadata": {
        "id": "UBXQbmLdvXuQ"
      },
      "source": [
        "### Training Best Model Found So Far (Logistic Regression)\n",
        "For the binary classifier with star ratings >=2, the best model was logistic regression with C=1.5, penalty=l2, and class_weight=balanced. We use such a model to generate the predictions we send to kaggle."
      ],
      "id": "UBXQbmLdvXuQ"
    },
    {
      "cell_type": "code",
      "execution_count": 54,
      "metadata": {
        "id": "yqUPVBQUvXuR"
      },
      "outputs": [],
      "source": [
        "# Train Classifier and Make Predictions\n",
        "classifier = LogisticRegression(max_iter=300, solver=\"saga\", penalty=\"l2\", class_weight='balanced', C=1.5)\n",
        "classifier.fit(all_text_features, all_train_labels)\n",
        "predictions = classifier.predict(test_data_features)\n",
        "\n",
        "# Save predicitons into a dataframe\n",
        "df2 = pd.DataFrame(predictions)\n",
        "df2.to_csv('predictions2.csv', header=[\"predicted\"])"
      ],
      "id": "yqUPVBQUvXuR"
    },
    {
      "cell_type": "markdown",
      "metadata": {
        "id": "9OtqV_RYxDaz"
      },
      "source": [
        "## Binary Classifiers For Reviews >= 3 Stars"
      ],
      "id": "9OtqV_RYxDaz"
    },
    {
      "cell_type": "markdown",
      "metadata": {
        "id": "vQZmiVsixDa8"
      },
      "source": [
        "### Data Loading / Cleaning and Label Changes "
      ],
      "id": "vQZmiVsixDa8"
    },
    {
      "cell_type": "code",
      "execution_count": 59,
      "metadata": {
        "id": "rDOSwpSPxDa8"
      },
      "outputs": [],
      "source": [
        "# Load data from CSV into dataframe\n",
        "all_train  = pd.read_csv(\"./Training.csv\")\n",
        "all_test = pd.read_csv(\"./Test.csv\")\n",
        "all_train_review_text = all_train[\"reviewText\"]\n",
        "all_train_labels = all_train[\"overall\"]\n",
        "all_test_review_text = all_test[\"reviewText\"]\n",
        "\n",
        "# Convert labels fron 1-5 scale to 0-1 scale with cutoff @ 3\n",
        "def change_labels(x):\n",
        "    if x <= 3:\n",
        "        return 0\n",
        "    else:\n",
        "        return 1\n",
        "f = np.vectorize(change_labels)\n",
        "all_train_labels = f(all_train_labels)"
      ],
      "id": "rDOSwpSPxDa8"
    },
    {
      "cell_type": "markdown",
      "metadata": {
        "id": "EsK4uoMdxDa8"
      },
      "source": [
        "### Text Vectorization"
      ],
      "id": "EsK4uoMdxDa8"
    },
    {
      "cell_type": "code",
      "execution_count": 60,
      "metadata": {
        "id": "abVcLK-VxDa8"
      },
      "outputs": [],
      "source": [
        "# Initalize vectorizer. \n",
        "vectorizer = TfidfVectorizer(lowercase=True)\n",
        "\n",
        "# Fit vectorizer and transform text into features \n",
        "all_text_features = vectorizer.fit_transform(all_train_review_text)\n",
        "test_data_features = vectorizer.transform(all_test_review_text)"
      ],
      "id": "abVcLK-VxDa8"
    },
    {
      "cell_type": "markdown",
      "metadata": {
        "id": "7A8YpLbkxDa8"
      },
      "source": [
        "### Evaluation Metric Imports and Setup"
      ],
      "id": "7A8YpLbkxDa8"
    },
    {
      "cell_type": "code",
      "source": [
        "# F1 Evaluation Function from example\n",
        "def evaluate(labels, predictions):\n",
        "    assert len(labels) == len(predictions), 'labels array and predictions array must be the same length'\n",
        "    precision, recall, f1, _ = precision_recall_fscore_support(labels, predictions, average='macro')\n",
        "    accuracy = accuracy_score(labels, predictions)\n",
        "    return accuracy, precision, recall, f1\n"
      ],
      "metadata": {
        "id": "3aMGihNnxDa8"
      },
      "execution_count": 61,
      "outputs": [],
      "id": "3aMGihNnxDa8"
    },
    {
      "cell_type": "markdown",
      "source": [
        "### Train-Test Split and 5 Fold Cross Validation For Logistic Regression"
      ],
      "metadata": {
        "id": "qZxLl0eoxDa9"
      },
      "id": "qZxLl0eoxDa9"
    },
    {
      "cell_type": "code",
      "execution_count": 62,
      "metadata": {
        "colab": {
          "base_uri": "https://localhost:8080/",
          "height": 493
        },
        "outputId": "9950157a-c229-49d4-e514-726e7ca62112",
        "id": "MVc1waQpxDa9"
      },
      "outputs": [
        {
          "output_type": "stream",
          "name": "stdout",
          "text": [
            "(C: 1, penalty: l2, class_weight: balanced): 0.8043697303567896\n",
            "(C: 1, penalty: l2, class_weight: None): 0.7976003024655389\n",
            "(C: 1.5, penalty: l2, class_weight: balanced): 0.8045845765584787\n",
            "(C: 1.5, penalty: l2, class_weight: None): 0.7996539484547368\n",
            "(C: 2, penalty: l2, class_weight: balanced): 0.804174166785702\n",
            "(C: 2, penalty: l2, class_weight: None): 0.8009198740556723\n",
            "---Best Model Stats---\n",
            "Best Model: {'C': 1.5, 'penalty': 'l2', 'class_weight': 'balanced'}\n",
            "f1: 0.8045845765584787\n",
            "Accuracy 0.8121549672814673\n",
            "AUC 0.8078502396954269\n",
            "Confusion Matrix\n"
          ]
        },
        {
          "output_type": "display_data",
          "data": {
            "text/plain": [
              "<Figure size 432x288 with 2 Axes>"
            ],
            "image/png": "[encoded data removed]"
          },
          "metadata": {
            "needs_background": "light"
          }
        }
      ],
      "source": [
        "# Set range of hyperparameters to test\n",
        "hyper_parameters = {\"C\": [1, 1.5, 2], \"penalty\": [\"l1\", \"l2\"], \"class_weight\": ['balanced', None]}\n",
        "best_params = {\"C\": None, \"penalty\": None, \"Classifier\": None}\n",
        "best_f1 = np.NINF\n",
        "best_param_stats = {\"Accuracy\": None, \"AUC\": None, \"Confusion Matrix\": None}\n",
        "\n",
        "for C in hyper_parameters[\"C\"]:\n",
        "  for penalty in hyper_parameters['penalty']:\n",
        "    for class_weight in hyper_parameters['class_weight']:\n",
        "\n",
        "      # Dont regularize if using L1 penalty because it takes too long to converge\n",
        "      if(penalty == 'l1'):\n",
        "        continue\n",
        "      \n",
        "      current_results = {'Accuracy' : [],\n",
        "                'Precision' : [],\n",
        "                'Recall' : [],\n",
        "                'F1' : [],\n",
        "                'Confusion Matrix': [],\n",
        "                'AUC': [],\n",
        "                'ROC':[],\n",
        "                'Classifier': []}\n",
        "      # 5 Fold Cross Validation for each combination of hyperparameters\n",
        "      kf = KFold(n_splits=5, shuffle=True, random_state=5)\n",
        "      for train_index, test_index in kf.split(all_text_features):\n",
        "          X_train, X_test = all_text_features[train_index], all_text_features[test_index]\n",
        "          y_train, y_test = all_train_labels[train_index], all_train_labels[test_index]\n",
        "          \n",
        "          # Train model given this split\n",
        "          log_reg_model = LogisticRegression(max_iter=300, solver=\"saga\", penalty=penalty, class_weight=class_weight, C=C)\n",
        "          log_reg_model.fit(X_train, y_train)\n",
        "          \n",
        "          # Calculate and report accuracy of this subset trained model\n",
        "          labels = y_test.tolist()\n",
        "          predictions = [log_reg_model.predict(current_vector) for current_vector in X_test]\n",
        "\n",
        "          a, p, r, f = evaluate(labels, predictions)\n",
        "          current_confusion_matrix = confusion_matrix(labels, predictions)\n",
        "          current_AUC_score = roc_auc_score(labels, predictions)\n",
        "          fpr, tpr, thresholds = roc_curve(labels, predictions)\n",
        "\n",
        "          current_results['Accuracy'].append(a)\n",
        "          current_results['Precision'].append(p)\n",
        "          current_results['Recall'].append(r)\n",
        "          current_results['F1'].append(f)\n",
        "          current_results['Confusion Matrix'].append(current_confusion_matrix)\n",
        "          current_results['AUC'].append(current_AUC_score)\n",
        "          current_results['Classifier'].append(log_reg_model)\n",
        "\n",
        "      # Calculate F1 Average for this set of hyperparameters and print results\n",
        "      current_f1_avg = sum(current_results['F1'])/len(current_results['F1'])\n",
        "      print(f\"(C: {C}, penalty: {penalty}, class_weight: {class_weight}):\", current_f1_avg)\n",
        "\n",
        "      # Update best params if best f1 achieved\n",
        "      if current_f1_avg > best_f1:\n",
        "        best_f1 = current_f1_avg\n",
        "        best_params = {\"C\": C, \"penalty\": penalty, \"class_weight\": class_weight}\n",
        "\n",
        "        # Update best parameter metrics\n",
        "        best_param_stats['Accuracy'] = np.mean(current_results['Accuracy'])\n",
        "        best_param_stats['AUC'] = np.mean(current_results['AUC'])\n",
        "        best_param_stats['Confusion Matrix'] = current_results['Confusion Matrix'][4]\n",
        "\n",
        "# Calculate and print AUC, ROC, F1, Confusion Matrix, and Accuracy of the best model\n",
        "print(\"---Best Model Stats---\")\n",
        "print(\"Best Model:\", best_params)\n",
        "print(f\"f1: {best_f1}\")\n",
        "for key in best_param_stats:\n",
        "  if key == 'ROC' or key == 'Confusion Matrix':\n",
        "    continue\n",
        "  print(key, best_param_stats[key])\n",
        "print(\"Confusion Matrix\")\n",
        "disp = ConfusionMatrixDisplay(confusion_matrix=best_param_stats['Confusion Matrix'])\n",
        "disp.plot()\n",
        "plt.show()"
      ],
      "id": "MVc1waQpxDa9"
    },
    {
      "cell_type": "markdown",
      "metadata": {
        "id": "cm-8H1SxxDa9"
      },
      "source": [
        "### Train-Test Split and 5 Fold Cross Validation For Multinomial Naïeve Bayes"
      ],
      "id": "cm-8H1SxxDa9"
    },
    {
      "cell_type": "code",
      "execution_count": 63,
      "metadata": {
        "colab": {
          "base_uri": "https://localhost:8080/",
          "height": 440
        },
        "outputId": "9cd8d2c7-feda-45fb-fb40-504acc0c14e0",
        "id": "DsJSbwSyxDa9"
      },
      "outputs": [
        {
          "output_type": "stream",
          "name": "stdout",
          "text": [
            "(alpha: 1) 0.557946608245316\n",
            "(alpha: 2) 0.49650808114090383\n",
            "(alpha: 3) 0.4728857752256571\n",
            "---Best Model Stats---\n",
            "Best Model: {'alpha': 1}\n",
            "f1: 0.557946608245316\n",
            "Accuracy 0.6797762886144743\n",
            "AUC 0.5935206307077795\n",
            "Confusion Matrix\n"
          ]
        },
        {
          "output_type": "display_data",
          "data": {
            "text/plain": [
              "<Figure size 432x288 with 2 Axes>"
            ],
            "image/png": "[encoded data removed]"
          },
          "metadata": {
            "needs_background": "light"
          }
        }
      ],
      "source": [
        "# Set range of hyperparameters to test\n",
        "hyper_parameters = {\"alpha\": [1, 2, 3]}\n",
        "best_params = {\"alpha\": None}\n",
        "best_f1 = np.NINF\n",
        "best_param_stats = {\"Accuracy\": None, \"AUC\": None, \"Confusion Matrix\": None}\n",
        "\n",
        "for alpha in hyper_parameters[\"alpha\"]:\n",
        "  current_results = {'Accuracy' : [],\n",
        "            'Precision' : [],\n",
        "            'Recall' : [],\n",
        "            'F1' : [],\n",
        "            'Confusion Matrix': [],\n",
        "            'AUC': [],\n",
        "            'ROC':[]}\n",
        "  # 5 Fold Cross Validation for each combination of hyperparameters\n",
        "  kf = KFold(n_splits=5, shuffle=True, random_state=5)\n",
        "  for train_index, test_index in kf.split(all_text_features):\n",
        "      X_train, X_test = all_text_features[train_index], all_text_features[test_index]\n",
        "      y_train, y_test = all_train_labels[train_index], all_train_labels[test_index]\n",
        "      \n",
        "      # Train model given this split\n",
        "      clf = MultinomialNB(alpha=alpha)\n",
        "      clf.fit(X_train, y_train)\n",
        "      \n",
        "      # Calculate and report accuracy of this subset trained model\n",
        "      labels = y_test.tolist()\n",
        "      predictions = [clf.predict(current_vector) for current_vector in X_test]\n",
        "\n",
        "      a, p, r, f = evaluate(labels, predictions)\n",
        "      current_confusion_matrix = confusion_matrix(labels, predictions)\n",
        "      current_AUC_score = roc_auc_score(labels, predictions)\n",
        "      fpr, tpr, thresholds = roc_curve(labels, predictions)\n",
        "\n",
        "      current_results['Accuracy'].append(a)\n",
        "      current_results['Precision'].append(p)\n",
        "      current_results['Recall'].append(r)\n",
        "      current_results['F1'].append(f)\n",
        "      current_results['Confusion Matrix'].append(current_confusion_matrix)\n",
        "      current_results['AUC'].append(current_AUC_score)\n",
        "      current_results['ROC'].append((fpr, tpr, thresholds))\n",
        "\n",
        "  # Calculate F1 Average for this set of hyperparameters and print results\n",
        "  current_f1_avg = sum(current_results['F1'])/len(current_results['F1'])\n",
        "  print(f\"(alpha: {alpha})\", current_f1_avg)\n",
        "\n",
        "  # Update best params if best f1 achieved\n",
        "  if current_f1_avg > best_f1:\n",
        "    best_f1 = current_f1_avg\n",
        "    best_params = {\"alpha\": alpha}\n",
        "\n",
        "    # Update best parameter metrics\n",
        "    best_param_stats['Accuracy'] = np.mean(current_results['Accuracy'])\n",
        "    best_param_stats['AUC'] = np.mean(current_results['AUC'])\n",
        "    best_param_stats['Confusion Matrix'] = current_results['Confusion Matrix'][4]\n",
        "    best_param_stats['ROC'] = current_results['ROC'][4]\n",
        "\n",
        "# Calculate and print AUC-ROC, F1, Confusion Matrix, and Accuracy of the best model\n",
        "print(\"---Best Model Stats---\")\n",
        "print(\"Best Model:\", best_params)\n",
        "print(f'f1: {best_f1}')\n",
        "for key in best_param_stats:\n",
        "  if key == 'ROC' or key == 'Confusion Matrix':\n",
        "    continue\n",
        "  print(key, best_param_stats[key])\n",
        "print(\"Confusion Matrix\")\n",
        "disp = ConfusionMatrixDisplay(confusion_matrix=best_param_stats['Confusion Matrix'])\n",
        "disp.plot()\n",
        "plt.show()"
      ],
      "id": "DsJSbwSyxDa9"
    },
    {
      "cell_type": "markdown",
      "metadata": {
        "id": "sYy58mHAxDa-"
      },
      "source": [
        "### Train-Test Split and 5 Fold Cross Validation Support Vector Machine Trained Via Stochastic Gradient Descent"
      ],
      "id": "sYy58mHAxDa-"
    },
    {
      "cell_type": "code",
      "execution_count": 64,
      "metadata": {
        "colab": {
          "base_uri": "https://localhost:8080/",
          "height": 458
        },
        "outputId": "01e1f0c2-51aa-40bc-8d8c-27cfb79cd635",
        "id": "xXFbUJAxxDa-"
      },
      "outputs": [
        {
          "output_type": "stream",
          "name": "stdout",
          "text": [
            "(loss function: hinge, penalty: l1) 0.7852295468273024\n",
            "(loss function: hinge, penalty: l2) 0.798018338359412\n",
            "(loss function: perceptron, penalty: l1) 0.6773044956139851\n",
            "(loss function: perceptron, penalty: l2) 0.7399323728062898\n",
            "---Best Model Stats---\n",
            "Best Model: {'loss': 'hinge', 'penalty': 'l2'}\n",
            "f1: 0.798018338359412\n",
            "Accuracy 0.8144504206224095\n",
            "AUC 0.7898923092860866\n",
            "Confusion Matrix\n"
          ]
        },
        {
          "output_type": "display_data",
          "data": {
            "text/plain": [
              "<Figure size 432x288 with 2 Axes>"
            ],
            "image/png": "[encoded data removed]"
          },
          "metadata": {
            "needs_background": "light"
          }
        }
      ],
      "source": [
        "# Set range of hyperparameters to test\n",
        "hyper_parameters = {\"loss\":[\"hinge\", \"perceptron\"], \"penalty\":[\"l1\", \"l2\"]}\n",
        "best_params = {\"loss\": None}\n",
        "best_f1 = np.NINF\n",
        "best_param_stats = {\"Accuracy\": None, \"AUC\": None, \"Confusion Matrix\": None}\n",
        "\n",
        "for loss in hyper_parameters[\"loss\"]:\n",
        "  for penalty in hyper_parameters['penalty']:\n",
        "      current_results = {'Accuracy' : [],\n",
        "                'Precision' : [],\n",
        "                'Recall' : [],\n",
        "                'F1' : [],\n",
        "                'Confusion Matrix': [],\n",
        "                'AUC': [],\n",
        "                'ROC':[]}\n",
        "      # 5 Fold Cross Validation for each combination of hyperparameters\n",
        "      kf = KFold(n_splits=5, shuffle=True, random_state=42)\n",
        "      for train_index, test_index in kf.split(all_text_features):\n",
        "          X_train, X_test = all_text_features[train_index], all_text_features[test_index]\n",
        "          y_train, y_test = all_train_labels[train_index], all_train_labels[test_index]\n",
        "          \n",
        "          # Train model given this split\n",
        "          clf = SGDClassifier(loss=loss, penalty=penalty)\n",
        "          clf.fit(X_train, y_train)\n",
        "          \n",
        "          # Calculate and report accuracy of this subset trained model\n",
        "          labels = y_test.tolist()\n",
        "          predictions = [clf.predict(current_vector) for current_vector in X_test]\n",
        "\n",
        "          a, p, r, f = evaluate(labels, predictions)\n",
        "          current_confusion_matrix = confusion_matrix(labels, predictions)\n",
        "          current_AUC_score = roc_auc_score(labels, predictions)\n",
        "          fpr, tpr, thresholds = roc_curve(labels, predictions)\n",
        "\n",
        "          current_results['Accuracy'].append(a)\n",
        "          current_results['Precision'].append(p)\n",
        "          current_results['Recall'].append(r)\n",
        "          current_results['F1'].append(f)\n",
        "          current_results['Confusion Matrix'].append(current_confusion_matrix)\n",
        "          current_results['AUC'].append(current_AUC_score)\n",
        "          current_results['ROC'].append((fpr, tpr, thresholds))\n",
        "\n",
        "      # Calculate F1 Average for this set of hyperparameters and print results\n",
        "      current_f1_avg = sum(current_results['F1'])/len(current_results['F1'])\n",
        "      print(f\"(loss function: {loss}, penalty: {penalty})\", current_f1_avg)\n",
        "\n",
        "      # Update best params if best f1 achieved\n",
        "      if current_f1_avg > best_f1:\n",
        "        best_f1 = current_f1_avg\n",
        "        best_params = {\"loss\": loss, \"penalty\": penalty}\n",
        "\n",
        "        # Update best parameter metrics\n",
        "        best_param_stats['Accuracy'] = np.mean(current_results['Accuracy'])\n",
        "        best_param_stats['AUC'] = np.mean(current_results['AUC'])\n",
        "        best_param_stats['Confusion Matrix'] = current_results['Confusion Matrix'][4]\n",
        "        best_param_stats['ROC'] = current_results['ROC'][4]\n",
        "\n",
        "# Calculate and print AUC, ROC, F1, Confusion Matrix, and Accuracy of the best model\n",
        "print(\"---Best Model Stats---\")\n",
        "print(\"Best Model:\", best_params)\n",
        "print(f'f1: {best_f1}')\n",
        "for key in best_param_stats:\n",
        "  if key == 'ROC' or key == \"Confusion Matrix\":\n",
        "    continue\n",
        "  print(key, best_param_stats[key])\n",
        "print(\"Confusion Matrix\")\n",
        "disp = ConfusionMatrixDisplay(confusion_matrix=best_param_stats['Confusion Matrix'])\n",
        "disp.plot()\n",
        "plt.show()"
      ],
      "id": "xXFbUJAxxDa-"
    },
    {
      "cell_type": "markdown",
      "metadata": {
        "id": "x4zY17vfxDa-"
      },
      "source": [
        "### Training Best Model Found So Far (Logistic Regression)\n",
        "For the binary classifier with star ratings >=3, the best model was logistic regression with C=1.5, penalty=l2, and class_weight=balanced. We use such a model to generate the predictions we send to kaggle."
      ],
      "id": "x4zY17vfxDa-"
    },
    {
      "cell_type": "code",
      "execution_count": 65,
      "metadata": {
        "id": "UippHDF-xDa-"
      },
      "outputs": [],
      "source": [
        "# Train Classifier and Make Predictions\n",
        "classifier = LogisticRegression(max_iter=300, solver=\"saga\", penalty=\"l2\", class_weight='balanced', C=1.5)\n",
        "classifier.fit(all_text_features, all_train_labels)\n",
        "predictions = classifier.predict(test_data_features)\n",
        "\n",
        "# Save predicitons into a dataframe\n",
        "df2 = pd.DataFrame(predictions)\n",
        "df2.to_csv('predictions3.csv', header=[\"predicted\"])"
      ],
      "id": "UippHDF-xDa-"
    },
    {
      "cell_type": "markdown",
      "metadata": {
        "id": "y8qCoboMxEow"
      },
      "source": [
        "## Binary Classifiers For Reviews >= 4 Stars"
      ],
      "id": "y8qCoboMxEow"
    },
    {
      "cell_type": "markdown",
      "metadata": {
        "id": "EmomWspjxEow"
      },
      "source": [
        "### Data Loading / Cleaning and Label Changes "
      ],
      "id": "EmomWspjxEow"
    },
    {
      "cell_type": "code",
      "execution_count": 66,
      "metadata": {
        "id": "POtnrB85xEox"
      },
      "outputs": [],
      "source": [
        "# Load data from CSV into dataframe\n",
        "all_train  = pd.read_csv(\"./Training.csv\")\n",
        "all_test = pd.read_csv(\"./Test.csv\")\n",
        "all_train_review_text = all_train[\"reviewText\"]\n",
        "all_train_labels = all_train[\"overall\"]\n",
        "all_test_review_text = all_test[\"reviewText\"]\n",
        "\n",
        "# Convert labels fron 1-5 scale to 0-1 scale with cutoff @ 2\n",
        "def change_labels(x):\n",
        "    if x <= 4:\n",
        "        return 0\n",
        "    else:\n",
        "        return 1\n",
        "f = np.vectorize(change_labels)\n",
        "all_train_labels = f(all_train_labels)"
      ],
      "id": "POtnrB85xEox"
    },
    {
      "cell_type": "markdown",
      "metadata": {
        "id": "1ckSPt-lxEox"
      },
      "source": [
        "### Text Vectorization"
      ],
      "id": "1ckSPt-lxEox"
    },
    {
      "cell_type": "code",
      "execution_count": 67,
      "metadata": {
        "id": "S-3kb6OBxEox"
      },
      "outputs": [],
      "source": [
        "# Initalize vectorizer. \n",
        "vectorizer = TfidfVectorizer(lowercase=True)\n",
        "\n",
        "# Fit vectorizer and transform text into features \n",
        "all_text_features = vectorizer.fit_transform(all_train_review_text)\n",
        "test_data_features = vectorizer.transform(all_test_review_text)"
      ],
      "id": "S-3kb6OBxEox"
    },
    {
      "cell_type": "markdown",
      "metadata": {
        "id": "cwxPv6WaxEox"
      },
      "source": [
        "### Evaluation Metric Imports and Setup"
      ],
      "id": "cwxPv6WaxEox"
    },
    {
      "cell_type": "code",
      "source": [
        "# F1 Evaluation Function from example\n",
        "def evaluate(labels, predictions):\n",
        "    assert len(labels) == len(predictions), 'labels array and predictions array must be the same length'\n",
        "    precision, recall, f1, _ = precision_recall_fscore_support(labels, predictions, average='macro')\n",
        "    accuracy = accuracy_score(labels, predictions)\n",
        "    return accuracy, precision, recall, f1\n"
      ],
      "metadata": {
        "id": "nvkNLznFxEox"
      },
      "execution_count": 68,
      "outputs": [],
      "id": "nvkNLznFxEox"
    },
    {
      "cell_type": "markdown",
      "source": [
        "### Train-Test Split and 5 Fold Cross Validation For Logistic Regression"
      ],
      "metadata": {
        "id": "TwXwVOg-xEox"
      },
      "id": "TwXwVOg-xEox"
    },
    {
      "cell_type": "code",
      "execution_count": 69,
      "metadata": {
        "colab": {
          "base_uri": "https://localhost:8080/",
          "height": 493
        },
        "outputId": "d90d111d-5bee-4a05-f6e0-63902e7d1d66",
        "id": "HaM3KAtPxEoy"
      },
      "outputs": [
        {
          "output_type": "stream",
          "name": "stdout",
          "text": [
            "(C: 1, penalty: l2, class_weight: balanced): 0.7623267325888081\n",
            "(C: 1, penalty: l2, class_weight: None): 0.7061717305206779\n",
            "(C: 1.5, penalty: l2, class_weight: balanced): 0.7620533914366721\n",
            "(C: 1.5, penalty: l2, class_weight: None): 0.7193798992865983\n",
            "(C: 2, penalty: l2, class_weight: balanced): 0.7614492968179029\n",
            "(C: 2, penalty: l2, class_weight: None): 0.7234983781799517\n",
            "---Best Model Stats---\n",
            "Best Model: {'C': 1, 'penalty': 'l2', 'class_weight': 'balanced'}\n",
            "f1: 0.7623267325888081\n",
            "Accuracy 0.832059818749665\n",
            "AUC 0.8015750500507304\n",
            "Confusion Matrix\n"
          ]
        },
        {
          "output_type": "display_data",
          "data": {
            "text/plain": [
              "<Figure size 432x288 with 2 Axes>"
            ],
            "image/png": "[encoded data removed]"
          },
          "metadata": {
            "needs_background": "light"
          }
        }
      ],
      "source": [
        "# Set range of hyperparameters to test\n",
        "hyper_parameters = {\"C\": [1, 1.5, 2], \"penalty\": [\"l1\", \"l2\"], \"class_weight\": ['balanced', None]}\n",
        "best_params = {\"C\": None, \"penalty\": None, \"Classifier\": None}\n",
        "best_f1 = np.NINF\n",
        "best_param_stats = {\"Accuracy\": None, \"AUC\": None, \"Confusion Matrix\": None}\n",
        "\n",
        "for C in hyper_parameters[\"C\"]:\n",
        "  for penalty in hyper_parameters['penalty']:\n",
        "    for class_weight in hyper_parameters['class_weight']:\n",
        "\n",
        "      # Dont regularize if using L1 penalty because it takes too long to converge\n",
        "      if(penalty == 'l1'):\n",
        "        continue\n",
        "      \n",
        "      current_results = {'Accuracy' : [],\n",
        "                'Precision' : [],\n",
        "                'Recall' : [],\n",
        "                'F1' : [],\n",
        "                'Confusion Matrix': [],\n",
        "                'AUC': [],\n",
        "                'ROC':[],\n",
        "                'Classifier': []}\n",
        "      # 5 Fold Cross Validation for each combination of hyperparameters\n",
        "      kf = KFold(n_splits=5, shuffle=True, random_state=5)\n",
        "      for train_index, test_index in kf.split(all_text_features):\n",
        "          X_train, X_test = all_text_features[train_index], all_text_features[test_index]\n",
        "          y_train, y_test = all_train_labels[train_index], all_train_labels[test_index]\n",
        "          \n",
        "          # Train model given this split\n",
        "          log_reg_model = LogisticRegression(max_iter=300, solver=\"saga\", penalty=penalty, class_weight=class_weight, C=C)\n",
        "          log_reg_model.fit(X_train, y_train)\n",
        "          \n",
        "          # Calculate and report accuracy of this subset trained model\n",
        "          labels = y_test.tolist()\n",
        "          predictions = [log_reg_model.predict(current_vector) for current_vector in X_test]\n",
        "\n",
        "          a, p, r, f = evaluate(labels, predictions)\n",
        "          current_confusion_matrix = confusion_matrix(labels, predictions)\n",
        "          current_AUC_score = roc_auc_score(y_test, log_reg_model.predict(X_test))\n",
        "\n",
        "          current_results['Accuracy'].append(a)\n",
        "          current_results['Precision'].append(p)\n",
        "          current_results['Recall'].append(r)\n",
        "          current_results['F1'].append(f)\n",
        "          current_results['Confusion Matrix'].append(current_confusion_matrix)\n",
        "          current_results['AUC'].append(current_AUC_score)\n",
        "          current_results['Classifier'].append(log_reg_model)\n",
        "\n",
        "      # Calculate F1 Average for this set of hyperparameters and print results\n",
        "      current_f1_avg = sum(current_results['F1'])/len(current_results['F1'])\n",
        "      print(f\"(C: {C}, penalty: {penalty}, class_weight: {class_weight}):\", current_f1_avg)\n",
        "\n",
        "      # Update best params if best f1 achieved\n",
        "      if current_f1_avg > best_f1:\n",
        "        best_f1 = current_f1_avg\n",
        "        best_params = {\"C\": C, \"penalty\": penalty, \"class_weight\": class_weight}\n",
        "\n",
        "        # Update best parameter metrics\n",
        "        best_param_stats['Accuracy'] = np.mean(current_results['Accuracy'])\n",
        "        best_param_stats['AUC'] = np.mean(current_results['AUC'])\n",
        "        best_param_stats['Confusion Matrix'] = current_results['Confusion Matrix'][4]\n",
        "\n",
        "# Calculate and print AUC, ROC, F1, Confusion Matrix, and Accuracy of the best model\n",
        "print(\"---Best Model Stats---\")\n",
        "print(\"Best Model:\", best_params)\n",
        "print(f\"f1: {best_f1}\")\n",
        "for key in best_param_stats:\n",
        "  if key == 'ROC' or key == 'Confusion Matrix':\n",
        "    continue\n",
        "  print(key, best_param_stats[key])\n",
        "print(\"Confusion Matrix\")\n",
        "disp = ConfusionMatrixDisplay(confusion_matrix=best_param_stats['Confusion Matrix'])\n",
        "disp.plot()\n",
        "plt.show()"
      ],
      "id": "HaM3KAtPxEoy"
    },
    {
      "cell_type": "markdown",
      "metadata": {
        "id": "tdHAuI6lxEoy"
      },
      "source": [
        "### Train-Test Split and 5 Fold Cross Validation For Multinomial Naïeve Bayes"
      ],
      "id": "tdHAuI6lxEoy"
    },
    {
      "cell_type": "code",
      "execution_count": 70,
      "metadata": {
        "colab": {
          "base_uri": "https://localhost:8080/",
          "height": 531
        },
        "outputId": "319a7c8c-9a8c-463f-a8fe-bae739939606",
        "id": "gLwBAhKmxEoy"
      },
      "outputs": [
        {
          "output_type": "stream",
          "name": "stdout",
          "text": [
            "(alpha: 1) 0.44817252378178846\n",
            "(alpha: 2) 0.44714058695149017\n"
          ]
        },
        {
          "output_type": "stream",
          "name": "stderr",
          "text": [
            "/usr/local/lib/python3.7/dist-packages/sklearn/metrics/_classification.py:1318: UndefinedMetricWarning: Precision and F-score are ill-defined and being set to 0.0 in labels with no predicted samples. Use `zero_division` parameter to control this behavior.\n",
            "  _warn_prf(average, modifier, msg_start, len(result))\n"
          ]
        },
        {
          "output_type": "stream",
          "name": "stdout",
          "text": [
            "(alpha: 3) 0.44642383193432983\n",
            "---Best Model Stats---\n",
            "Best Model: {'alpha': 1}\n",
            "f1: 0.44817252378178846\n",
            "Accuracy 0.8064678182317702\n",
            "AUC 0.5005279635533999\n",
            "Confusion Matrix\n"
          ]
        },
        {
          "output_type": "stream",
          "name": "stderr",
          "text": [
            "/usr/local/lib/python3.7/dist-packages/sklearn/metrics/_classification.py:1318: UndefinedMetricWarning: Precision and F-score are ill-defined and being set to 0.0 in labels with no predicted samples. Use `zero_division` parameter to control this behavior.\n",
            "  _warn_prf(average, modifier, msg_start, len(result))\n"
          ]
        },
        {
          "output_type": "display_data",
          "data": {
            "text/plain": [
              "<Figure size 432x288 with 2 Axes>"
            ],
            "image/png": "[encoded data removed]"
          },
          "metadata": {
            "needs_background": "light"
          }
        }
      ],
      "source": [
        "# Set range of hyperparameters to test\n",
        "hyper_parameters = {\"alpha\": [1, 2, 3]}\n",
        "best_params = {\"alpha\": None}\n",
        "best_f1 = np.NINF\n",
        "best_param_stats = {\"Accuracy\": None, \"AUC\": None, \"Confusion Matrix\": None}\n",
        "\n",
        "for alpha in hyper_parameters[\"alpha\"]:\n",
        "  current_results = {'Accuracy' : [],\n",
        "            'Precision' : [],\n",
        "            'Recall' : [],\n",
        "            'F1' : [],\n",
        "            'Confusion Matrix': [],\n",
        "            'AUC': [],\n",
        "            'ROC':[]}\n",
        "  # 5 Fold Cross Validation for each combination of hyperparameters\n",
        "  kf = KFold(n_splits=5, shuffle=True, random_state=5)\n",
        "  for train_index, test_index in kf.split(all_text_features):\n",
        "      X_train, X_test = all_text_features[train_index], all_text_features[test_index]\n",
        "      y_train, y_test = all_train_labels[train_index], all_train_labels[test_index]\n",
        "      \n",
        "      # Train model given this split\n",
        "      clf = MultinomialNB(alpha=alpha)\n",
        "      clf.fit(X_train, y_train)\n",
        "      \n",
        "      # Calculate and report accuracy of this subset trained model\n",
        "      labels = y_test.tolist()\n",
        "      predictions = [clf.predict(current_vector) for current_vector in X_test]\n",
        "\n",
        "      a, p, r, f = evaluate(labels, predictions)\n",
        "      current_confusion_matrix = confusion_matrix(labels, predictions)\n",
        "      current_AUC_score = roc_auc_score(y_test, clf.predict(X_test))\n",
        "\n",
        "      current_results['Accuracy'].append(a)\n",
        "      current_results['Precision'].append(p)\n",
        "      current_results['Recall'].append(r)\n",
        "      current_results['F1'].append(f)\n",
        "      current_results['Confusion Matrix'].append(current_confusion_matrix)\n",
        "      current_results['AUC'].append(current_AUC_score)\n",
        "      current_results['ROC'].append((fpr, tpr, thresholds))\n",
        "\n",
        "  # Calculate F1 Average for this set of hyperparameters and print results\n",
        "  current_f1_avg = sum(current_results['F1'])/len(current_results['F1'])\n",
        "  print(f\"(alpha: {alpha})\", current_f1_avg)\n",
        "\n",
        "  # Update best params if best f1 achieved\n",
        "  if current_f1_avg > best_f1:\n",
        "    best_f1 = current_f1_avg\n",
        "    best_params = {\"alpha\": alpha}\n",
        "\n",
        "    # Update best parameter metrics\n",
        "    best_param_stats['Accuracy'] = np.mean(current_results['Accuracy'])\n",
        "    best_param_stats['AUC'] = np.mean(current_results['AUC'])\n",
        "    best_param_stats['Confusion Matrix'] = current_results['Confusion Matrix'][4]\n",
        "    best_param_stats['ROC'] = current_results['ROC'][4]\n",
        "\n",
        "# Calculate and print AUC-ROC, F1, Confusion Matrix, and Accuracy of the best model\n",
        "print(\"---Best Model Stats---\")\n",
        "print(\"Best Model:\", best_params)\n",
        "print(f'f1: {best_f1}')\n",
        "for key in best_param_stats:\n",
        "  if key == 'ROC' or key == 'Confusion Matrix':\n",
        "    continue\n",
        "  print(key, best_param_stats[key])\n",
        "print(\"Confusion Matrix\")\n",
        "disp = ConfusionMatrixDisplay(confusion_matrix=best_param_stats['Confusion Matrix'])\n",
        "disp.plot()\n",
        "plt.show()"
      ],
      "id": "gLwBAhKmxEoy"
    },
    {
      "cell_type": "markdown",
      "metadata": {
        "id": "gXTAHwZSxEoz"
      },
      "source": [
        "### Train-Test Split and 5 Fold Cross Validation Support Vector Machine Trained Via Stochastic Gradient Descent"
      ],
      "id": "gXTAHwZSxEoz"
    },
    {
      "cell_type": "code",
      "execution_count": 71,
      "metadata": {
        "colab": {
          "base_uri": "https://localhost:8080/",
          "height": 459
        },
        "outputId": "6547427d-d06e-40b8-8cb2-5f07bac587dd",
        "id": "y_ZUsyNyxEoz"
      },
      "outputs": [
        {
          "output_type": "stream",
          "name": "stdout",
          "text": [
            "(loss function: hinge, penalty: l1) 0.6735349856462916\n",
            "(loss function: hinge, penalty: l2) 0.6967096775287105\n",
            "(loss function: perceptron, penalty: l1) 0.6630123412425947\n",
            "(loss function: perceptron, penalty: l2) 0.6896253602848883\n",
            "---Best Model Stats---\n",
            "Best Model: {'loss': 'hinge', 'penalty': 'l2'}\n",
            "f1: 0.6967096775287105\n",
            "Accuracy 0.852889867552347\n",
            "AUC 0.6618147048572165\n",
            "Confusion Matrix\n"
          ]
        },
        {
          "output_type": "display_data",
          "data": {
            "text/plain": [
              "<Figure size 432x288 with 2 Axes>"
            ],
            "image/png": "[encoded data removed]"
          },
          "metadata": {
            "needs_background": "light"
          }
        }
      ],
      "source": [
        "# Set range of hyperparameters to test\n",
        "hyper_parameters = {\"loss\":[\"hinge\", \"perceptron\"], \"penalty\":[\"l1\", \"l2\"]}\n",
        "best_params = {\"loss\": None}\n",
        "best_f1 = np.NINF\n",
        "best_param_stats = {\"Accuracy\": None, \"AUC\": None, \"Confusion Matrix\": None}\n",
        "\n",
        "for loss in hyper_parameters[\"loss\"]:\n",
        "  for penalty in hyper_parameters['penalty']:\n",
        "      current_results = {'Accuracy' : [],\n",
        "                'Precision' : [],\n",
        "                'Recall' : [],\n",
        "                'F1' : [],\n",
        "                'Confusion Matrix': [],\n",
        "                'AUC': [],\n",
        "                'ROC':[]}\n",
        "      # 5 Fold Cross Validation for each combination of hyperparameters\n",
        "      kf = KFold(n_splits=5, shuffle=True, random_state=42)\n",
        "      for train_index, test_index in kf.split(all_text_features):\n",
        "          X_train, X_test = all_text_features[train_index], all_text_features[test_index]\n",
        "          y_train, y_test = all_train_labels[train_index], all_train_labels[test_index]\n",
        "          \n",
        "          # Train model given this split\n",
        "          clf = SGDClassifier(loss=loss, penalty=penalty)\n",
        "          clf.fit(X_train, y_train)\n",
        "          \n",
        "          # Calculate and report accuracy of this subset trained model\n",
        "          labels = y_test.tolist()\n",
        "          predictions = [clf.predict(current_vector) for current_vector in X_test]\n",
        "\n",
        "          a, p, r, f = evaluate(labels, predictions)\n",
        "          current_confusion_matrix = confusion_matrix(labels, predictions)\n",
        "          current_AUC_score = roc_auc_score(y_test, clf.predict(X_test))\n",
        "\n",
        "          current_results['Accuracy'].append(a)\n",
        "          current_results['Precision'].append(p)\n",
        "          current_results['Recall'].append(r)\n",
        "          current_results['F1'].append(f)\n",
        "          current_results['Confusion Matrix'].append(current_confusion_matrix)\n",
        "          current_results['AUC'].append(current_AUC_score)\n",
        "          current_results['ROC'].append((fpr, tpr, thresholds))\n",
        "\n",
        "      # Calculate F1 Average for this set of hyperparameters and print results\n",
        "      current_f1_avg = sum(current_results['F1'])/len(current_results['F1'])\n",
        "      print(f\"(loss function: {loss}, penalty: {penalty})\", current_f1_avg)\n",
        "\n",
        "      # Update best params if best f1 achieved\n",
        "      if current_f1_avg > best_f1:\n",
        "        best_f1 = current_f1_avg\n",
        "        best_params = {\"loss\": loss, \"penalty\": penalty}\n",
        "\n",
        "        # Update best parameter metrics\n",
        "        best_param_stats['Accuracy'] = np.mean(current_results['Accuracy'])\n",
        "        best_param_stats['AUC'] = np.mean(current_results['AUC'])\n",
        "        best_param_stats['Confusion Matrix'] = current_results['Confusion Matrix'][4]\n",
        "        best_param_stats['ROC'] = current_results['ROC'][4]\n",
        "\n",
        "# Calculate and print AUC, ROC, F1, Confusion Matrix, and Accuracy of the best model\n",
        "print(\"---Best Model Stats---\")\n",
        "print(\"Best Model:\", best_params)\n",
        "print(f'f1: {best_f1}')\n",
        "for key in best_param_stats:\n",
        "  if key == 'ROC' or key == \"Confusion Matrix\":\n",
        "    continue\n",
        "  print(key, best_param_stats[key])\n",
        "print(\"Confusion Matrix\")\n",
        "disp = ConfusionMatrixDisplay(confusion_matrix=best_param_stats['Confusion Matrix'])\n",
        "disp.plot()\n",
        "plt.show()"
      ],
      "id": "y_ZUsyNyxEoz"
    },
    {
      "cell_type": "markdown",
      "metadata": {
        "id": "52jgh01kxEoz"
      },
      "source": [
        "### Training Best Model Found So Far (Logistic Regression)\n",
        "For the binary classifier with star ratings >=4, the best model was logistic regression with C=1, penalty=l2, and class_weight=balanced. We use such a model to generate the predictions we send to kaggle."
      ],
      "id": "52jgh01kxEoz"
    },
    {
      "cell_type": "code",
      "execution_count": 72,
      "metadata": {
        "id": "k24eRuLpxEoz"
      },
      "outputs": [],
      "source": [
        "# Train Classifier and Make Predictions\n",
        "classifier = LogisticRegression(max_iter=300, solver=\"saga\", penalty=\"l2\", class_weight='balanced', C=1)\n",
        "classifier.fit(all_text_features, all_train_labels)\n",
        "predictions = classifier.predict(test_data_features)\n",
        "\n",
        "# Save predicitons into a dataframe\n",
        "df2 = pd.DataFrame(predictions)\n",
        "df2.to_csv('predictions4.csv', header=[\"predicted\"])"
      ],
      "id": "k24eRuLpxEoz"
    },
    {
      "cell_type": "markdown",
      "metadata": {
        "id": "obY0Q4tTxXnK"
      },
      "source": [
        "## Multiclass Classification for 1-5 Stars"
      ],
      "id": "obY0Q4tTxXnK"
    },
    {
      "cell_type": "markdown",
      "metadata": {
        "id": "I5BPv_sQxXnW"
      },
      "source": [
        "### Data Loading / Cleaning and Label Changes "
      ],
      "id": "I5BPv_sQxXnW"
    },
    {
      "cell_type": "code",
      "execution_count": 73,
      "metadata": {
        "id": "MNIdeAvIxXnW"
      },
      "outputs": [],
      "source": [
        "# Load data from CSV into dataframe\n",
        "all_train  = pd.read_csv(\"./Training.csv\")\n",
        "all_test = pd.read_csv(\"./Test.csv\")\n",
        "all_train_review_text = all_train[\"reviewText\"]\n",
        "all_train_labels = all_train[\"overall\"]\n",
        "all_test_review_text = all_test[\"reviewText\"]"
      ],
      "id": "MNIdeAvIxXnW"
    },
    {
      "cell_type": "markdown",
      "metadata": {
        "id": "ypztcXO4xXnW"
      },
      "source": [
        "### Text Vectorization"
      ],
      "id": "ypztcXO4xXnW"
    },
    {
      "cell_type": "code",
      "execution_count": 74,
      "metadata": {
        "id": "tmXmQ6_QxXnW"
      },
      "outputs": [],
      "source": [
        "# Initalize vectorizer. \n",
        "vectorizer = TfidfVectorizer(lowercase=True)\n",
        "\n",
        "# Fit vectorizer and transform text into features \n",
        "all_text_features = vectorizer.fit_transform(all_train_review_text)\n",
        "test_data_features = vectorizer.transform(all_test_review_text)"
      ],
      "id": "tmXmQ6_QxXnW"
    },
    {
      "cell_type": "markdown",
      "metadata": {
        "id": "fjt7kfolxXnX"
      },
      "source": [
        "### Evaluation Metric Imports and Setup"
      ],
      "id": "fjt7kfolxXnX"
    },
    {
      "cell_type": "code",
      "source": [
        "# F1 Evaluation Function from example\n",
        "def evaluate(labels, predictions):\n",
        "    assert len(labels) == len(predictions), 'labels array and predictions array must be the same length'\n",
        "    precision, recall, f1, _ = precision_recall_fscore_support(labels, predictions, average='macro')\n",
        "    accuracy = accuracy_score(labels, predictions)\n",
        "    return accuracy, precision, recall, f1\n"
      ],
      "metadata": {
        "id": "Ykziig55xXnX"
      },
      "execution_count": 75,
      "outputs": [],
      "id": "Ykziig55xXnX"
    },
    {
      "cell_type": "markdown",
      "source": [
        "### Train-Test Split and 5 Fold Cross Validation For Logistic Regression"
      ],
      "metadata": {
        "id": "Pn8_UhhRxXnX"
      },
      "id": "Pn8_UhhRxXnX"
    },
    {
      "cell_type": "code",
      "execution_count": 80,
      "metadata": {
        "colab": {
          "base_uri": "https://localhost:8080/",
          "height": 493
        },
        "outputId": "85d21837-5035-4a14-f193-e33368bb79ab",
        "id": "CeB2dlhBxXnX"
      },
      "outputs": [
        {
          "output_type": "stream",
          "name": "stdout",
          "text": [
            "(C: 1, penalty: l2, class_weight: balanced): 0.46904124369058947\n",
            "(C: 1, penalty: l2, class_weight: None): 0.4692828230958317\n",
            "(C: 1.5, penalty: l2, class_weight: balanced): 0.46575015537694675\n",
            "(C: 1.5, penalty: l2, class_weight: None): 0.4657245865368348\n",
            "(C: 2, penalty: l2, class_weight: balanced): 0.4633385611923231\n",
            "(C: 2, penalty: l2, class_weight: None): 0.46367954515807924\n",
            "---Best Model Stats---\n",
            "Best Model: {'C': 1, 'penalty': 'l2', 'class_weight': None}\n",
            "f1: 0.4692828230958317\n",
            "Accuracy 0.472643611535794\n",
            "AUC 0.7942094675765727\n",
            "Confusion Matrix\n"
          ]
        },
        {
          "output_type": "display_data",
          "data": {
            "text/plain": [
              "<Figure size 432x288 with 2 Axes>"
            ],
            "image/png": "[encoded data removed]"
          },
          "metadata": {
            "needs_background": "light"
          }
        }
      ],
      "source": [
        "# Set range of hyperparameters to test\n",
        "hyper_parameters = {\"C\": [1, 1.5, 2], \"penalty\": [\"l1\", \"l2\"], \"class_weight\": ['balanced', None]}\n",
        "best_params = {\"C\": None, \"penalty\": None, \"Classifier\": None}\n",
        "best_f1 = np.NINF\n",
        "best_param_stats = {\"Accuracy\": None, \"AUC\": None, \"Confusion Matrix\": None}\n",
        "\n",
        "for C in hyper_parameters[\"C\"]:\n",
        "  for penalty in hyper_parameters['penalty']:\n",
        "    for class_weight in hyper_parameters['class_weight']:\n",
        "\n",
        "      # Dont regularize if using L1 penalty because it takes too long to converge\n",
        "      if(penalty == 'l1'):\n",
        "        continue\n",
        "      \n",
        "      current_results = {'Accuracy' : [],\n",
        "                'Precision' : [],\n",
        "                'Recall' : [],\n",
        "                'F1' : [],\n",
        "                'Confusion Matrix': [],\n",
        "                'AUC': [],\n",
        "                'ROC':[],\n",
        "                'Classifier': []}\n",
        "      # 5 Fold Cross Validation for each combination of hyperparameters\n",
        "      kf = KFold(n_splits=5, shuffle=True, random_state=5)\n",
        "      for train_index, test_index in kf.split(all_text_features):\n",
        "          X_train, X_test = all_text_features[train_index], all_text_features[test_index]\n",
        "          y_train, y_test = all_train_labels[train_index], all_train_labels[test_index]\n",
        "          \n",
        "          # Train model given this split\n",
        "          log_reg_model = LogisticRegression(max_iter=300, solver=\"saga\", penalty=penalty, class_weight=class_weight, C=C)\n",
        "          log_reg_model.fit(X_train, y_train)\n",
        "          \n",
        "          # Calculate and report accuracy of this subset trained model\n",
        "          labels = y_test.tolist()\n",
        "          predictions = [log_reg_model.predict(current_vector) for current_vector in X_test]\n",
        "\n",
        "          a, p, r, f = evaluate(labels, predictions)\n",
        "          current_confusion_matrix = confusion_matrix(labels, predictions, labels=[1, 2, 3, 4, 5])\n",
        "          current_AUC_score = roc_auc_score(y_test, log_reg_model.predict_proba(X_test), multi_class='ovr', labels=[1, 2, 3, 4, 5])\n",
        "\n",
        "          current_results['Accuracy'].append(a)\n",
        "          current_results['Precision'].append(p)\n",
        "          current_results['Recall'].append(r)\n",
        "          current_results['F1'].append(f)\n",
        "          current_results['Confusion Matrix'].append(current_confusion_matrix)\n",
        "          current_results['AUC'].append(current_AUC_score)\n",
        "          current_results['Classifier'].append(log_reg_model)\n",
        "\n",
        "      # Calculate F1 Average for this set of hyperparameters and print results\n",
        "      current_f1_avg = sum(current_results['F1'])/len(current_results['F1'])\n",
        "      print(f\"(C: {C}, penalty: {penalty}, class_weight: {class_weight}):\", current_f1_avg)\n",
        "\n",
        "      # Update best params if best f1 achieved\n",
        "      if current_f1_avg > best_f1:\n",
        "        best_f1 = current_f1_avg\n",
        "        best_params = {\"C\": C, \"penalty\": penalty, \"class_weight\": class_weight}\n",
        "\n",
        "        # Update best parameter metrics\n",
        "        best_param_stats['Accuracy'] = np.mean(current_results['Accuracy'])\n",
        "        best_param_stats['AUC'] = np.mean(current_results['AUC'])\n",
        "        best_param_stats['Confusion Matrix'] = current_results['Confusion Matrix'][4]\n",
        "\n",
        "# Calculate and print AUC, ROC, F1, Confusion Matrix, and Accuracy of the best model\n",
        "print(\"---Best Model Stats---\")\n",
        "print(\"Best Model:\", best_params)\n",
        "print(f\"f1: {best_f1}\")\n",
        "for key in best_param_stats:\n",
        "  if key == 'ROC' or key == 'Confusion Matrix':\n",
        "    continue\n",
        "  print(key, best_param_stats[key])\n",
        "print(\"Confusion Matrix\")\n",
        "disp = ConfusionMatrixDisplay(confusion_matrix=best_param_stats['Confusion Matrix'], display_labels=['1', '2', '3', '4', '5'])\n",
        "disp.plot()\n",
        "plt.show()"
      ],
      "id": "CeB2dlhBxXnX"
    },
    {
      "cell_type": "markdown",
      "metadata": {
        "id": "9EanNlz5xXnX"
      },
      "source": [
        "### Train-Test Split and 5 Fold Cross Validation For Multinomial Naïeve Bayes"
      ],
      "id": "9EanNlz5xXnX"
    },
    {
      "cell_type": "code",
      "execution_count": 82,
      "metadata": {
        "colab": {
          "base_uri": "https://localhost:8080/",
          "height": 440
        },
        "outputId": "fa389d44-76b8-4a91-c523-be1f6a02e48e",
        "id": "yoITIBcqxXnY"
      },
      "outputs": [
        {
          "output_type": "stream",
          "name": "stdout",
          "text": [
            "(alpha: 1) 0.42331319114162574\n",
            "(alpha: 2) 0.4158063613463502\n",
            "(alpha: 3) 0.4131029671760668\n",
            "---Best Model Stats---\n",
            "Best Model: {'alpha': 1}\n",
            "f1: 0.42331319114162574\n",
            "Accuracy 0.41937010023885735\n",
            "AUC 0.767451996333641\n",
            "Confusion Matrix\n"
          ]
        },
        {
          "output_type": "display_data",
          "data": {
            "text/plain": [
              "<Figure size 432x288 with 2 Axes>"
            ],
            "image/png": "[encoded data removed]"
          },
          "metadata": {
            "needs_background": "light"
          }
        }
      ],
      "source": [
        "# Set range of hyperparameters to test\n",
        "hyper_parameters = {\"alpha\": [1, 2, 3]}\n",
        "best_params = {\"alpha\": None}\n",
        "best_f1 = np.NINF\n",
        "best_param_stats = {\"Accuracy\": None, \"AUC\": None, \"Confusion Matrix\": None}\n",
        "\n",
        "for alpha in hyper_parameters[\"alpha\"]:\n",
        "  current_results = {'Accuracy' : [],\n",
        "            'Precision' : [],\n",
        "            'Recall' : [],\n",
        "            'F1' : [],\n",
        "            'Confusion Matrix': [],\n",
        "            'AUC': [],\n",
        "            'ROC':[]}\n",
        "  # 5 Fold Cross Validation for each combination of hyperparameters\n",
        "  kf = KFold(n_splits=5, shuffle=True, random_state=5)\n",
        "  for train_index, test_index in kf.split(all_text_features):\n",
        "      X_train, X_test = all_text_features[train_index], all_text_features[test_index]\n",
        "      y_train, y_test = all_train_labels[train_index], all_train_labels[test_index]\n",
        "      \n",
        "      # Train model given this split\n",
        "      clf = MultinomialNB(alpha=alpha)\n",
        "      clf.fit(X_train, y_train)\n",
        "      \n",
        "      # Calculate and report accuracy of this subset trained model\n",
        "      labels = y_test.tolist()\n",
        "      predictions = [clf.predict(current_vector) for current_vector in X_test]\n",
        "\n",
        "      a, p, r, f = evaluate(labels, predictions)\n",
        "      current_confusion_matrix = confusion_matrix(labels, predictions, labels=[1, 2, 3, 4, 5])\n",
        "      current_AUC_score = roc_auc_score(y_test, clf.predict_proba(X_test), multi_class='ovr', labels=[1, 2, 3, 4, 5])\n",
        "\n",
        "      current_results['Accuracy'].append(a)\n",
        "      current_results['Precision'].append(p)\n",
        "      current_results['Recall'].append(r)\n",
        "      current_results['F1'].append(f)\n",
        "      current_results['Confusion Matrix'].append(current_confusion_matrix)\n",
        "      current_results['AUC'].append(current_AUC_score)\n",
        "\n",
        "  # Calculate F1 Average for this set of hyperparameters and print results\n",
        "  current_f1_avg = sum(current_results['F1'])/len(current_results['F1'])\n",
        "  print(f\"(alpha: {alpha})\", current_f1_avg)\n",
        "\n",
        "  # Update best params if best f1 achieved\n",
        "  if current_f1_avg > best_f1:\n",
        "    best_f1 = current_f1_avg\n",
        "    best_params = {\"alpha\": alpha}\n",
        "\n",
        "    # Update best parameter metrics\n",
        "    best_param_stats['Accuracy'] = np.mean(current_results['Accuracy'])\n",
        "    best_param_stats['AUC'] = np.mean(current_results['AUC'])\n",
        "    best_param_stats['Confusion Matrix'] = current_results['Confusion Matrix'][4]\n",
        "\n",
        "# Calculate and print AUC-ROC, F1, Confusion Matrix, and Accuracy of the best model\n",
        "print(\"---Best Model Stats---\")\n",
        "print(\"Best Model:\", best_params)\n",
        "print(f'f1: {best_f1}')\n",
        "for key in best_param_stats:\n",
        "  if key == 'ROC' or key == 'Confusion Matrix':\n",
        "    continue\n",
        "  print(key, best_param_stats[key])\n",
        "print(\"Confusion Matrix\")\n",
        "disp = ConfusionMatrixDisplay(confusion_matrix=best_param_stats['Confusion Matrix'], display_labels=['1', '2', '3', '4', '5'])\n",
        "disp.plot()\n",
        "plt.show()"
      ],
      "id": "yoITIBcqxXnY"
    },
    {
      "cell_type": "markdown",
      "metadata": {
        "id": "Dq_vbBM2xXnY"
      },
      "source": [
        "### Train-Test Split and 5 Fold Cross Validation Support Vector Machine Trained Via Stochastic Gradient Descent"
      ],
      "id": "Dq_vbBM2xXnY"
    },
    {
      "cell_type": "code",
      "execution_count": 95,
      "metadata": {
        "colab": {
          "base_uri": "https://localhost:8080/",
          "height": 422
        },
        "outputId": "c1de8eab-5975-4341-d245-1303b7a7c387",
        "id": "dyEJS4j_xXnY"
      },
      "outputs": [
        {
          "output_type": "stream",
          "name": "stdout",
          "text": [
            "(penalty: l1) 0.44724861744743966\n",
            "(penalty: l2) 0.46731395225059097\n",
            "---Best Model Stats---\n",
            "Best Model: {'penalty': 'l2'}\n",
            "f1: 0.46731395225059097\n",
            "Accuracy 0.4772690112918598\n",
            "AUC 0.7917967726653556\n",
            "Confusion Matrix\n"
          ]
        },
        {
          "output_type": "display_data",
          "data": {
            "text/plain": [
              "<Figure size 432x288 with 2 Axes>"
            ],
            "image/png": "[encoded data removed]"
          },
          "metadata": {
            "needs_background": "light"
          }
        }
      ],
      "source": [
        "# Set range of hyperparameters to test\n",
        "hyper_parameters = {\"penalty\": ['l1', 'l2']}\n",
        "best_params = {'penalty': None}\n",
        "best_f1 = np.NINF\n",
        "best_param_stats = {\"Accuracy\": None, \"AUC\": None, \"Confusion Matrix\": None}\n",
        "\n",
        "for penalty in hyper_parameters['penalty']:\n",
        "    current_results = {'Accuracy' : [],\n",
        "              'Precision' : [],\n",
        "              'Recall' : [],\n",
        "              'F1' : [],\n",
        "              'Confusion Matrix': [],\n",
        "              'AUC': [],\n",
        "              'ROC':[]}\n",
        "    # 5 Fold Cross Validation for each combination of hyperparameters\n",
        "    kf = KFold(n_splits=5, shuffle=True, random_state=42)\n",
        "    for train_index, test_index in kf.split(all_text_features):\n",
        "        X_train, X_test = all_text_features[train_index], all_text_features[test_index]\n",
        "        y_train, y_test = all_train_labels[train_index], all_train_labels[test_index]\n",
        "        \n",
        "        # Train model given this split\n",
        "        clf = SGDClassifier(loss=\"log\", penalty=penalty)\n",
        "        clf.fit(X_train, y_train)\n",
        "        \n",
        "        # Calculate and report accuracy of this subset trained model\n",
        "        labels = y_test.tolist()\n",
        "        predictions = [clf.predict(current_vector) for current_vector in X_test]\n",
        "\n",
        "        a, p, r, f = evaluate(labels, predictions)\n",
        "        current_confusion_matrix = confusion_matrix(labels, predictions, labels=[1, 2, 3, 4, 5])\n",
        "        current_AUC_score = roc_auc_score(y_test, clf.predict_proba(X_test), multi_class=\"ovr\", labels=[1, 2, 3, 4, 5])\n",
        "\n",
        "        current_results['Accuracy'].append(a)\n",
        "        current_results['Precision'].append(p)\n",
        "        current_results['Recall'].append(r)\n",
        "        current_results['F1'].append(f)\n",
        "        current_results['Confusion Matrix'].append(current_confusion_matrix)\n",
        "        current_results['AUC'].append(current_AUC_score)\n",
        "\n",
        "    # Calculate F1 Average for this set of hyperparameters and print results\n",
        "    current_f1_avg = sum(current_results['F1'])/len(current_results['F1'])\n",
        "    print(f\"(penalty: {penalty})\", current_f1_avg)\n",
        "\n",
        "    # Update best params if best f1 achieved\n",
        "    if current_f1_avg > best_f1:\n",
        "      best_f1 = current_f1_avg\n",
        "      best_params = {\"penalty\": penalty}\n",
        "\n",
        "      # Update best parameter metrics\n",
        "      best_param_stats['Accuracy'] = np.mean(current_results['Accuracy'])\n",
        "      best_param_stats['AUC'] = np.mean(current_results['AUC'])\n",
        "      best_param_stats['Confusion Matrix'] = current_results['Confusion Matrix'][4]\n",
        "\n",
        "# Calculate and print AUC, ROC, F1, Confusion Matrix, and Accuracy of the best model\n",
        "print(\"---Best Model Stats---\")\n",
        "print(\"Best Model:\", best_params)\n",
        "print(f'f1: {best_f1}')\n",
        "for key in best_param_stats:\n",
        "  if key == 'ROC' or key == \"Confusion Matrix\":\n",
        "    continue\n",
        "  print(key, best_param_stats[key])\n",
        "print(\"Confusion Matrix\")\n",
        "disp = ConfusionMatrixDisplay(confusion_matrix=best_param_stats['Confusion Matrix'], display_labels=['1', '2', '3', '4', '5'])\n",
        "disp.plot()\n",
        "plt.show()"
      ],
      "id": "dyEJS4j_xXnY"
    },
    {
      "cell_type": "markdown",
      "metadata": {
        "id": "LFvCFKggxXnY"
      },
      "source": [
        "### Training Best Model Found So Far (Logistic Regression)\n",
        "For the multiclass classifier, the best model was logistic regression with C=1, penalty=l2, and class_weight=None. We use such a model to generate the predictions we send to kaggle."
      ],
      "id": "LFvCFKggxXnY"
    },
    {
      "cell_type": "code",
      "execution_count": 96,
      "metadata": {
        "id": "xH27ZzXCxXnY"
      },
      "outputs": [],
      "source": [
        "# Train Classifier and Make Predictions\n",
        "classifier = LogisticRegression(max_iter=300, solver=\"saga\", penalty=\"l2\", class_weight='balanced', C=1)\n",
        "classifier.fit(all_text_features, all_train_labels)\n",
        "predictions = classifier.predict(test_data_features)\n",
        "\n",
        "# Save predicitons into a dataframe\n",
        "df2 = pd.DataFrame(predictions)\n",
        "df2.to_csv('predictions5.csv', header=[\"predicted\"])"
      ],
      "id": "xH27ZzXCxXnY"
    },
    {
      "cell_type": "markdown",
      "source": [
        "## Clustering"
      ],
      "metadata": {
        "id": "AvwvyahDuVUS"
      },
      "id": "AvwvyahDuVUS"
    },
    {
      "cell_type": "markdown",
      "source": [
        "### Load Unlabeled (Test) Data"
      ],
      "metadata": {
        "id": "j5HiwYDwvIh4"
      },
      "id": "j5HiwYDwvIh4"
    },
    {
      "cell_type": "code",
      "execution_count": 97,
      "metadata": {
        "id": "MR8QVXLsPXwK"
      },
      "outputs": [],
      "source": [
        "# Load data from CSV into dataframe\n",
        "test_dataframe = pd.read_csv(\"./Test.csv\")\n",
        "test_text = test_dataframe[\"reviewText\"]\n",
        "test_labels = test_dataframe[\"category\"]"
      ],
      "id": "MR8QVXLsPXwK"
    },
    {
      "cell_type": "markdown",
      "source": [
        "### Vectorizing Review Text"
      ],
      "metadata": {
        "id": "Y-ZDQZEiTUAn"
      },
      "id": "Y-ZDQZEiTUAn"
    },
    {
      "cell_type": "code",
      "source": [
        "# Initalize vectorizer. \n",
        "vectorizer = TfidfVectorizer(lowercase=True, max_df = 0.9, min_df = 0.2, stop_words='english')\n",
        "\n",
        "# Fit vectorizer and transform text into features \n",
        "X = vectorizer.fit_transform(test_text)\n"
      ],
      "metadata": {
        "id": "3IjiELtqT0HP"
      },
      "execution_count": 98,
      "outputs": [],
      "id": "3IjiELtqT0HP"
    },
    {
      "cell_type": "markdown",
      "source": [
        "### Run KMeans Algorithm\n",
        "\n",
        "\n"
      ],
      "metadata": {
        "id": "06ROiMgVUPKV"
      },
      "id": "06ROiMgVUPKV"
    },
    {
      "cell_type": "code",
      "source": [
        "kmeans = KMeans(n_clusters=6).fit(X)\n",
        "print(\"Silhouette Score:\", silhouette_score(X, kmeans.labels_))\n",
        "print(\"Rand Score\", rand_score(test_labels, kmeans.labels_))"
      ],
      "metadata": {
        "colab": {
          "base_uri": "https://localhost:8080/"
        },
        "id": "eqGjMd6FURXk",
        "outputId": "ddd9b002-94e6-413c-9bd2-343cfa1e42f5"
      },
      "execution_count": 99,
      "outputs": [
        {
          "output_type": "stream",
          "name": "stdout",
          "text": [
            "Silhouette Score: 0.9882771373157031\n",
            "Rand Score 0.5295491837692327\n"
          ]
        }
      ],
      "id": "eqGjMd6FURXk"
    }
  ],
  "metadata": {
    "colab": {
      "collapsed_sections": [
        "WCDcfkwruxqc",
        "79056ae8",
        "y9DETSzSvXuN",
        "9OtqV_RYxDaz",
        "y8qCoboMxEow",
        "obY0Q4tTxXnK",
        "LFvCFKggxXnY",
        "AvwvyahDuVUS"
      ],
      "name": "COSC 074 Final Project Code.ipynb",
      "provenance": [],
      "include_colab_link": true
    },
    "kernelspec": {
      "display_name": "Python 3 (ipykernel)",
      "language": "python",
      "name": "python3"
    },
    "language_info": {
      "codemirror_mode": {
        "name": "ipython",
        "version": 3
      },
      "file_extension": ".py",
      "mimetype": "text/x-python",
      "name": "python",
      "nbconvert_exporter": "python",
      "pygments_lexer": "ipython3",
      "version": "3.9.7"
    }
  },
  "nbformat": 4,
  "nbformat_minor": 5
}